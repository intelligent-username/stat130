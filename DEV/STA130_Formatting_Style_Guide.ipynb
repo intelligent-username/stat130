{
 "cells": [
  {
   "cell_type": "markdown",
   "id": "55c03013",
   "metadata": {},
   "source": [
    "\n",
    "# Formal Formatting and Style Guide for STA130 Textbook and Tutorials\n",
    "\n",
    "## Introduction\n",
    "\n",
    "This document serves as the official formatting and style guide for maintaining consistency across the STA130 textbook and tutorial materials. The guidelines outlined in this notebook will ensure clarity, professionalism, and uniformity in all written and coded content, improving the accessibility and readability of the educational resources.\n",
    "\n",
    "By adhering to these standards, contributors will help create a cohesive and organized learning experience for students. Each section addresses specific rules for formatting Python code, headings, mathematical expressions, and content structure within Jupyter Notebooks, GitHub, and NBLM.\n",
    "    "
   ]
  },
  {
   "cell_type": "markdown",
   "id": "e3d560b6",
   "metadata": {},
   "source": [
    "\n",
    "## 1. Hyperlinked Python Code Formatting\n",
    "\n",
    "- **Guideline:** Hyperlinked Python code within the text should be written in *italics* rather than Python back ticks.\n",
    "- **Example:**\n",
    "  - **Before:**\n",
    "    ```python\n",
    "    [text](...link...)\n",
    "    ```\n",
    "  - **After:**<br></br>\n",
    "    $\\;\\;\\;\\;\\;\\;$[_text_](...link...)\n",
    "    \n",
    "    "
   ]
  },
  {
   "cell_type": "markdown",
   "id": "cbe8780a",
   "metadata": {},
   "source": [
    "\n",
    "## 2. Python Code in Headings\n",
    "\n",
    "- **Guideline:** Python code appearing in headings should be italicized to make sure it renders in NotebookLM.\n",
    "- **Example:**\n",
    "  - **Before:**\n",
    "    ```markdown\n",
    "    #### iloc\n",
    "    ```\n",
    "  - **After:**\n",
    "    ```markdown\n",
    "    #### _iloc_\n",
    "    ```\n",
    "    "
   ]
  },
  {
   "cell_type": "markdown",
   "id": "5dfa8dfd",
   "metadata": {},
   "source": [
    "\n",
    "## 3. Mathematical Expressions\n",
    "\n",
    "- **Guideline:** Mathematical expressions should be displayed using LaTeX syntax. No modifications are required to the default formats for inline and block math.\n",
    "  - **Inline Math:** `$ expression $`\n",
    "  - **Block Math:** `$$ expression $$`\n",
    "- **Note:** Math expressions may not render correctly in NBLM. Students are advised to refer to the GitHub version of the textbook or the Jupyter notebook for accurate representations of mathematical content.\n",
    "    "
   ]
  },
  {
   "cell_type": "markdown",
   "id": "780ae1c9",
   "metadata": {},
   "source": [
    "\n",
    "## 4. Line Breaks in GitHub and NBLM\n",
    "\n",
    "- **Guideline:** Use a backslash (`\\`) to create a line break when formatting content for GitHub and NBLM.\n",
    "- **Note:** Backslashes may not function as intended in Jupyter notebooks—they will appear as plain text and have no effect, which can cause formatting issues. Therefore, avoid using backslashes for line breaks within Jupyter notebooks.\n",
    "    "
   ]
  },
  {
   "cell_type": "markdown",
   "id": "b7141c8f",
   "metadata": {},
   "source": [
    "\n",
    "## 5. Quote Blocks and Accordion Menus\n",
    "\n",
    "- **Guideline:** For quote blocks and accordion-style collapsible sections, the `<details>` and `<summary>` tags must be placed on a single line for optimal rendering.\n",
    "- **Example:**\n",
    "  ```html\n",
    "  <details class=\"details\">\n",
    "      <summary style=\"font-weight:bold\">Accordion Title</summary>\n",
    "      Content goes here.\n",
    "  </details>\n",
    "  ```\n",
    "    "
   ]
  },
  {
   "cell_type": "markdown",
   "id": "01306a8f",
   "metadata": {},
   "source": [
    "\n",
    "## 6. Header Levels\n",
    "\n",
    "- **Guideline:** All headers should be downgraded by one level, except for H4, which remains unchanged. This adjustment ensures proper hierarchy without overuse of similar-sized headers.\n",
    "- **Example:**\n",
    "  - **Before:**\n",
    "    ```markdown\n",
    "    ### Header Level 3\n",
    "    ```\n",
    "  - **After:**\n",
    "    ```markdown\n",
    "    #### Header Level 4\n",
    "    ```\n",
    "    "
   ]
  },
  {
   "cell_type": "markdown",
   "id": "0e39fa4e",
   "metadata": {},
   "source": [
    "\n",
    "## 7. Absolute Path Usage\n",
    "\n",
    "- **Guideline:** Use absolute paths for all links to ensure compatibility across different platforms such as GitHub and NBLM.\n",
    "- **Example:**\n",
    "  - **Before:**\n",
    "    ```markdown\n",
    "    ../CHATLOG/wk4/GPT/SLS/00001_gpt3p5_LawOfLargeNumbers_demo.md\n",
    "    ```\n",
    "  - **After:**\n",
    "    ```markdown\n",
    "    https://github.com/pointOfive/stat130chat130/blob/main/CHATLOG/wk4/GPT/SLS/00001_gpt3p5_LawOfLargeNumbers_demo.md\n",
    "    ```\n",
    "    "
   ]
  },
  {
   "cell_type": "markdown",
   "id": "75b42a1c",
   "metadata": {},
   "source": [
    "\n",
    "## 8. Nested List Limitations\n",
    "\n",
    "- **Guideline:** Avoid using more than three levels of nested lists to prevent clutter and improve readability.\n",
    "    "
   ]
  },
  {
   "cell_type": "markdown",
   "id": "8175c6e8",
   "metadata": {},
   "source": [
    "\n",
    "## 9. Committing Notebooks\n",
    "\n",
    "- **Guideline:** Always commit a version of the notebook that has been restarted and cleared of all output. This ensures that no unnecessary output artifacts affect the diffs.\n",
    "    "
   ]
  },
  {
   "cell_type": "markdown",
   "id": "2b9310c2",
   "metadata": {},
   "source": [
    "\n",
    "## Template and Structure Guidelines\n",
    "\n",
    "- **Template Notebook:** A standard template notebook will be maintained to ensure consistent structure and formatting across all assignments and tutorials.\n",
    "- **Accordion Menus:** Incorporate accordion menus to manage large sections of text or optional content in an organized manner.\n",
    "- **Header Usage:** Limit the number of top-level headers to essential sections only to maintain a clean and structured format.\n",
    "    "
   ]
  }
 ],
 "metadata": {
  "kernelspec": {
   "display_name": "Python 3 (ipykernel)",
   "language": "python",
   "name": "python3"
  },
  "language_info": {
   "codemirror_mode": {
    "name": "ipython",
    "version": 3
   },
   "file_extension": ".py",
   "mimetype": "text/x-python",
   "name": "python",
   "nbconvert_exporter": "python",
   "pygments_lexer": "ipython3",
   "version": "3.11.6"
  }
 },
 "nbformat": 4,
 "nbformat_minor": 5
}
