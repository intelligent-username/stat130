{
 "cells": [
  {
   "cell_type": "markdown",
   "metadata": {},
   "source": [
    "# STA130 Week 05 Homework\n",
    "\n",
    "**Name:** Varak Tanashian\n",
    "\n",
    "**Date:** , 2024\n",
    "\n",
    "**Assignment:** Week 0 Homework\n",
    "\n",
    "---\n",
    "\n",
    "## Course Information\n",
    "- **Course:** STA130 - An Introduction to Statistical Reasoning and Data Science\n",
    "- **Instructor:** Prof. Scott Schwartz \n",
    "- **Term:** Fall 2024\n",
    "\n",
    "---\n",
    "\n",
    "*This notebook contains my solutions and work for the Week 02 Homework assignment. The required Chatbot logs are included as well*\n",
    "\n",
    "##### ChatGPT Summary: Found at the bottom of this notebook  \n",
    "##### Chat Links \n",
    "- "
   ]
  },
  {
   "cell_type": "markdown",
   "metadata": {},
   "source": [
    "### Question 1"
   ]
  },
  {
   "cell_type": "markdown",
   "metadata": {},
   "source": [
    "### Question 2"
   ]
  },
  {
   "cell_type": "markdown",
   "metadata": {},
   "source": [
    "### Question"
   ]
  },
  {
   "cell_type": "markdown",
   "metadata": {},
   "source": [
    "\n",
    "---\n",
    "\n",
    "### Chatbot Summaries\n",
    "\n",
    "##### "
   ]
  }
 ],
 "metadata": {
  "kernelspec": {
   "display_name": "Python 3",
   "language": "python",
   "name": "python3"
  },
  "language_info": {
   "codemirror_mode": {
    "name": "ipython",
    "version": 3
   },
   "file_extension": ".py",
   "mimetype": "text/x-python",
   "name": "python",
   "nbconvert_exporter": "python",
   "pygments_lexer": "ipython3",
   "version": "3.12.5"
  }
 },
 "nbformat": 4,
 "nbformat_minor": 2
}
