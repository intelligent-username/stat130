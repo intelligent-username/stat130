{
 "cells": [
  {
   "cell_type": "markdown",
   "metadata": {},
   "source": [
    "# STA130 Week 03 Homework\n",
    "\n",
    "**Name:** Varak Tanashian\n",
    "\n",
    "**Date:** September 26th, 2024\n",
    "\n",
    "**Assignment:** Week 03 Homework\n",
    "\n",
    "---\n",
    "\n",
    "## Course Information\n",
    "- **Course:** STA130 - An Introduction to Statistical Reasoning and Data Science\n",
    "- **Instructor:** Prof. Scott Schwartz \n",
    "- **Term:** Fall 2024\n",
    "\n",
    "---\n",
    "\n",
    "*This notebook contains my solutions and work for the Week 02 Homework assignment. The required Chatbot logs are included as well*\n",
    "\n",
    "##### ChatGPT Summary: Found at the bottom of this notebook  \n",
    "##### Chat Links \n",
    "- "
   ]
  },
  {
   "cell_type": "markdown",
   "metadata": {},
   "source": [
    "### Question 1"
   ]
  },
  {
   "cell_type": "code",
   "execution_count": null,
   "metadata": {},
   "outputs": [],
   "source": [
    "import plotly.graph_objects as go\n",
    "from plotly.subplots import make_subplots\n",
    "import pandas as pd\n",
    "import numpy as np\n",
    "\n",
    "# Assuming 'penguins' dataset is loaded\n",
    "fig = make_subplots(rows=1, cols=3)\n",
    "\n",
    "for i, species in enumerate(['Adelie', 'Chinstrap', 'Gentoo']):\n",
    "    data = penguins[penguins['species'] == species]['flipper_length_mm']\n",
    "    \n",
    "    fig.add_trace(go.Histogram(x=data, name=species), row=1, col=i+1)\n",
    "    \n",
    "    mean = np.mean(data)\n",
    "    median = np.median(data)\n",
    "    std = np.std(data)\n",
    "    \n",
    "    fig.add_vline(x=mean, line_dash=\"dash\", line_color=\"red\", row=1, col=i+1)\n",
    "    fig.add_vline(x=median, line_dash=\"dash\", line_color=\"green\", row=1, col=i+1)\n",
    "    \n",
    "    fig.add_vrect(x0=mean-2*std, x1=mean+2*std, fillcolor=\"rgba(0,0,255,0.1)\", \n",
    "                  line_width=0, row=1, col=i+1)\n",
    "\n",
    "fig.update_layout(height=400, width=900, title_text=\"Penguin Flipper Lengths by Species\")\n",
    "fig.show()"
   ]
  },
  {
   "cell_type": "markdown",
   "metadata": {},
   "source": [
    "### Question 2"
   ]
  },
  {
   "cell_type": "code",
   "execution_count": null,
   "metadata": {},
   "outputs": [],
   "source": [
    "import seaborn as sns\n",
    "import matplotlib.pyplot as plt\n",
    "\n",
    "fig, axes = plt.subplots(1, 3, figsize=(15, 5))\n",
    "\n",
    "for i, species in enumerate(['Adelie', 'Chinstrap', 'Gentoo']):\n",
    "    data = penguins[penguins['species'] == species]['flipper_length_mm']\n",
    "    \n",
    "    sns.kdeplot(data=data, ax=axes[i])\n",
    "    \n",
    "    mean = np.mean(data)\n",
    "    median = np.median(data)\n",
    "    std = np.std(data)\n",
    "    \n",
    "    axes[i].axvline(mean, color='red', linestyle='--', label='Mean')\n",
    "    axes[i].axvline(median, color='green', linestyle='--', label='Median')\n",
    "    \n",
    "    axes[i].axvspan(mean-2*std, mean+2*std, alpha=0.2, color='blue')\n",
    "    \n",
    "    axes[i].set_title(f'{species} Penguins')\n",
    "    axes[i].legend()\n",
    "\n",
    "plt.tight_layout()\n",
    "plt.show()"
   ]
  },
  {
   "cell_type": "markdown",
   "metadata": {},
   "source": [
    "### Question 3\n",
    "\n",
    "Box plots provide a clear summary of the data's distribution, showing median, quartiles, and outliers. They're great for comparing distributions but don't show the shape well.\n",
    "Histograms show the frequency distribution, revealing the shape and any peaks in the data. They're intuitive but can be sensitive to bin size.\n",
    "KDE plots offer a smooth probability density estimate, showing the shape of the distribution. They're less affected by binning but can sometimes over-smooth the data.\n"
   ]
  },
  {
   "cell_type": "markdown",
   "metadata": {},
   "source": [
    "### Question 4\n",
    "\n",
    "A and B have similar means but different variances (A is uniform, B is normal).\n",
    "B and D have similar means and variances (both normal distributions).\n",
    "A and C have different means and variances (A is uniform, C is bimodal).\n",
    "B and C have similar variances but different means (B is unimodal, C is bimodal)."
   ]
  },
  {
   "cell_type": "markdown",
   "metadata": {},
   "source": [
    "### Question 5"
   ]
  },
  {
   "cell_type": "code",
   "execution_count": null,
   "metadata": {},
   "outputs": [],
   "source": [
    "import numpy as np\n",
    "import matplotlib.pyplot as plt\n",
    "\n",
    "# Right-skewed distribution\n",
    "right_skewed = np.random.exponential(scale=2, size=1000)\n",
    "plt.hist(right_skewed, bins=30)\n",
    "plt.axvline(np.mean(right_skewed), color='red', label='Mean')\n",
    "plt.axvline(np.median(right_skewed), color='green', label='Median')\n",
    "plt.legend()\n",
    "plt.title('Right-skewed Distribution')\n",
    "plt.show()\n",
    "\n",
    "print(f\"Mean: {np.mean(right_skewed):.2f}\")\n",
    "print(f\"Median: {np.median(right_skewed):.2f}\")"
   ]
  },
  {
   "cell_type": "markdown",
   "metadata": {},
   "source": [
    "### Question 6"
   ]
  },
  {
   "cell_type": "markdown",
   "metadata": {},
   "source": [
    "### Question 7"
   ]
  },
  {
   "cell_type": "markdown",
   "metadata": {},
   "source": [
    "### Question 8"
   ]
  },
  {
   "cell_type": "markdown",
   "metadata": {},
   "source": [
    "### Question 9"
   ]
  },
  {
   "cell_type": "markdown",
   "metadata": {},
   "source": [
    "\n",
    "---\n",
    "\n",
    "### Chatbot Summary\n",
    "\n"
   ]
  }
 ],
 "metadata": {
  "kernelspec": {
   "display_name": "Python 3",
   "language": "python",
   "name": "python3"
  },
  "language_info": {
   "codemirror_mode": {
    "name": "ipython",
    "version": 3
   },
   "file_extension": ".py",
   "mimetype": "text/x-python",
   "name": "python",
   "nbconvert_exporter": "python",
   "pygments_lexer": "ipython3",
   "version": "3.12.5"
  }
 },
 "nbformat": 4,
 "nbformat_minor": 2
}
