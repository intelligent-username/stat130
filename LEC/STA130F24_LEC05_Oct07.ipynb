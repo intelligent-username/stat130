{
 "cells": [
  {
   "cell_type": "markdown",
   "metadata": {},
   "source": [
    "# STA130 LEC 07 (Oct 07)\n",
    "## (Statistical) Hypothesis Testing\n",
    "\n",
    "- **Inference** VS **Estimation** VS **Null Hypotheses**\n",
    "- \"Proving\" **bootstrapped confidence intervals** (from last class)\n",
    "\n",
    "- A reminder/review of how to use ChatBots\n",
    "    - The [Bad](https://chatgpt.com/share/66fd24f3-3a00-8007-a67b-e389bb4bb940), the [Good](https://chatgpt.com/share/66fd2ea8-0dd8-8007-bb44-41e63de657be), and the [Lovely?](https://en.wikipedia.org/wiki/The_Good,_the_Bad_and_the_Ugly)\n",
    "\n",
    "- Sampling Distribution of a statistic **under the null hypothesis**\n",
    "    - **p-values**\n",
    "    - VS the **bootstrapped Sampling Distribution** of a statistic\n",
    "    - VS $\\alpha$-**significance levels** and Type I and II Errors\n",
    "\n",
    "- **Don't f@#k this up**; or, \"mistakes you can make to make you dumb\"\n",
    "    - Just interpret p-values in terms of _Strength of Evidence_ against the null hypothesis\n",
    "\n",
    "    - Or just use **confidence intervals**\n"
   ]
  },
  {
   "cell_type": "markdown",
   "metadata": {},
   "source": [
    "## Inference VS Estimation VS Null Hypotheses\n",
    "\n",
    "### Let's consider Week 04 HWq8 again"
   ]
  },
  {
   "cell_type": "code",
   "execution_count": null,
   "metadata": {},
   "outputs": [],
   "source": [
    "import pandas as pd\n",
    "\n",
    "patient_data = pd.DataFrame({\n",
    "    \"PatientID\": [1, 2, 3, 4, 5, 6, 7, 8, 9, 10],\n",
    "    \"Age\": [45, 34, 29, 52, 37, 41, 33, 48, 26, 39],\n",
    "    \"Gender\": [\"M\", \"F\", \"M\", \"F\", \"M\", \"F\", \"M\", \"F\", \"M\", \"F\"],\n",
    "    \"InitialHealthScore\": [84, 78, 83, 81, 81, 80, 79, 85, 76, 83],\n",
    "    \"FinalHealthScore\": [86, 86, 80, 86, 84, 86, 86, 82, 83, 84]\n",
    "})\n",
    "\n",
    "patient_data['HealthScoreChange'] = patient_data.FinalHealthScore-patient_data.InitialHealthScore\n",
    "\n",
    "patient_data"
   ]
  },
  {
   "cell_type": "code",
   "execution_count": null,
   "metadata": {},
   "outputs": [],
   "source": [
    "import plotly.express as px\n",
    "\n",
    "# Reshape the data to have both scores in one column for plotting\n",
    "health_scores = patient_data.melt(id_vars=[\"PatientID\", \"Age\", \"Gender\"], \n",
    "                                  value_vars=[\"InitialHealthScore\", \"FinalHealthScore\"], \n",
    "                                  var_name=\"ScoreType\", \n",
    "                                  value_name=\"HealthScore\")\n",
    "fig = px.box(health_scores, x=\"HealthScore\", y=\"ScoreType\", title=\"Boxplot of Initial and Final Health Scores\")\n",
    "fig.show()"
   ]
  },
  {
   "cell_type": "markdown",
   "metadata": {},
   "source": [
    "**Questions** \n",
    "\n",
    "1. What's the variance?\n",
    "2. This is probably a good visualization, but why might it not be?\n",
    "3. Do you think the vaccine does anything? \n",
    "4. What's your **estimate** of the effect of the vaccine **on average**?\n",
    "5. Is that a **parameter** (of what population?) or a **statistic** (of what sample?) that **estimates** the **parameter**?"
   ]
  },
  {
   "cell_type": "code",
   "execution_count": null,
   "metadata": {},
   "outputs": [],
   "source": [
    "#https://stackoverflow.com/questions/52771328/plotly-chart-not-showing-in-jupyter-notebook\n",
    "import plotly.offline as pyo\n",
    "# Set notebook mode to work in offline\n",
    "pyo.init_notebook_mode()"
   ]
  },
  {
   "cell_type": "code",
   "execution_count": null,
   "metadata": {},
   "outputs": [],
   "source": [
    "import plotly.graph_objects as go\n",
    "\n",
    "# Calculate means\n",
    "mean_initial = patient_data['InitialHealthScore'].mean()\n",
    "mean_final = patient_data['FinalHealthScore'].mean()\n",
    "\n",
    "# Reshape the data for histogram plotting\n",
    "health_scores = patient_data.melt(id_vars=[\"PatientID\", \"Age\", \"Gender\"], \n",
    "                                  value_vars=[\"InitialHealthScore\", \"FinalHealthScore\"], \n",
    "                                  var_name=\"ScoreType\", \n",
    "                                  value_name=\"HealthScore\")\n",
    "\n",
    "# Create histograms for Initial and Final Health Scores\n",
    "fig = px.histogram(health_scores, x=\"HealthScore\", color=\"ScoreType\", \n",
    "                   title=\"Histogram of Initial and Final Health Scores\", \n",
    "                   barmode='overlay', nbins=10)\n",
    "\n",
    "# Add vertical lines for the sample means\n",
    "fig.add_vline(x=mean_initial, line_dash=\"dash\", line_color=\"blue\", \n",
    "              annotation_text=f\"Mean Initial: {mean_initial:.2f}\", annotation_position=\"top left\")\n",
    "\n",
    "fig.add_vline(x=mean_final, line_dash=\"dash\", line_color=\"red\", \n",
    "              annotation_text=f\"Mean Final: {mean_final:.2f}\", annotation_position=\"top right\")\n",
    "\n",
    "# Show the figure\n",
    "fig.show()"
   ]
  },
  {
   "cell_type": "code",
   "execution_count": null,
   "metadata": {},
   "outputs": [],
   "source": [
    "mean_change = patient_data['HealthScoreChange'].mean()\n",
    "\n",
    "fig = px.histogram(patient_data, x='HealthScoreChange', nbins=10, \n",
    "                   title=\"Histogram of Health Score Change\")\n",
    "\n",
    "fig.add_vline(x=mean_change, line_dash=\"dash\", line_color=\"red\", \n",
    "              annotation_text=f\"Mean: {mean_change:.2f}\", annotation_position=\"top right\")\n",
    "fig.update_xaxes(tickmode='linear', tick0=patient_data['HealthScoreChange'].min(), dtick=1)\n",
    "fig.show()"
   ]
  },
  {
   "cell_type": "markdown",
   "metadata": {},
   "source": [
    "**Questions** \n",
    "\n",
    "1. What does it mean to ask, \"Does the vaccine have an effect?\"\n",
    "2. What does it mean to ask, \"Does the vaccine help?\"\n",
    "\n",
    "**Hint: why should we add the phrase _on average_ here?**\n",
    "\n",
    "3. What does it mean if we add the phrase **on average** here?\n",
    "4. Are we talking about a **population paramter** or a **sample statistic** when we say **on average**?\n",
    "5. Is that really different than talking about a **sample average** (despite how similarly close they sound)?\n",
    "6. What is the **sample mean** used for relative to the **population mean**?"
   ]
  },
  {
   "cell_type": "code",
   "execution_count": null,
   "metadata": {},
   "outputs": [],
   "source": [
    "# Evidence against null hypothesis using confidence intervals\n",
    "\n",
    "import numpy as np\n",
    "\n",
    "# Bootstrapping\n",
    "# np.random.seed(130)  # make simulation reproducible\n",
    "number_of_simulations = 1000 \n",
    "n_size = len(patient_data)  # 10\n",
    "bootstrap_means = np.zeros(1000)  # array to store bootstrapped means\n",
    "\n",
    "for i in range(number_of_simulations):\n",
    "    \n",
    "    # bootstrap sample size is the same (\"apples to apples\") as the original sample size\n",
    "    sample = patient_data.sample(n=n_size, replace=True)  # `replace=True`!!\n",
    "    bootstrap_means[i] = sample['HealthScoreChange'].mean()  # bootstrapped mean\n",
    "\n",
    "# Calculating the 95% confidence interval\n",
    "ci_lower = np.percentile(bootstrap_means, 2.5)\n",
    "ci_upper = np.percentile(bootstrap_means, 97.5)\n",
    "ci_lower, ci_upper"
   ]
  },
  {
   "cell_type": "markdown",
   "metadata": {},
   "source": [
    "**Questions**\n",
    "\n",
    "1. How did we get this?\n",
    "2. What is this?\n",
    "3. What do we believe this tells us?\n",
    "4. How do we state what be believe this tells us?\n",
    "5. This IS NOT **estimation**: what would **estimation** be here?\n",
    "6. This IS **inference**: why is **inference** MUCH MORE interesting than **estimation**? \n",
    "7. What is **variance**? What does it tell us?\n",
    "8. What **standard error**? What does it tell us?\n",
    "9. How does **standard error** factor in to what we have here?\n",
    "10. What does a **null hypothesis** have to do with anything here?\n",
    "11. What is a \"natural\" **null hypothesis** to consider here?\n",
    "12. How do we evaluate the **null hypothesis** using what we have here?\n",
    "13. Why do we believe what we believe this tells us (re: 3)? "
   ]
  },
  {
   "cell_type": "code",
   "execution_count": null,
   "metadata": {},
   "outputs": [],
   "source": [
    "# figure for demonstration only: code details not of primary concern\n",
    "\n",
    "import plotly.graph_objs as go\n",
    "import plotly.figure_factory as ff\n",
    "\n",
    "hist_data = [bootstrap_means]\n",
    "group_labels = ['Bootstrapped<br>Sampling Distribution<br>of the Sample Mean']\n",
    "fig = ff.create_distplot(hist_data, group_labels, \n",
    "                         show_hist=True, show_rug=False, bin_size=0.4)\n",
    "\n",
    "# Add a line for the lower confidence interval\n",
    "ci_y = 0.35  # Adjust height as needed\n",
    "fig.add_shape(type=\"line\", x0=ci_lower, y0=0, x1=ci_lower, y1=ci_y,\n",
    "              line=dict(color=\"Red\", width=2), name=\"95% CI Lower\")\n",
    "# Add a line for the upper confidence interval\n",
    "fig.add_shape(type=\"line\", x0=ci_upper, y0=0, x1=ci_upper, y1=ci_y,\n",
    "              line=dict(color=\"Red\", width=2), name=\"95% CI Upper\")\n",
    "# Add a transparent rectangle for the confidence interval region\n",
    "fig.add_shape(type=\"rect\", x0=ci_lower, y0=0, x1=ci_upper, y1=ci_y,\n",
    "    fillcolor=\"LightSkyBlue\", opacity=0.5, line_width=0)\n",
    "# Add annotations for the confidence interval lines\n",
    "fig.add_trace(go.Scatter(x=[ci_lower, ci_upper], y=[ci_y+0.01, ci_y+0.01],  \n",
    "              text=[\"95% CI Lower\", \"95% CI Upper\"], mode=\"text\", showlegend=False))\n",
    "\n",
    "fig.update_layout(\n",
    "    title=\"Bootstrapped Sampling Distribution with 95% Confidence Interval\",\n",
    "    xaxis_title=\"Mean Health Score Change\", yaxis_title=\"Density\")\n",
    "fig.show() # USE `fig.show(renderer=\"png\")` FOR ALL GitHub and MarkUs SUBMISSIONS"
   ]
  },
  {
   "cell_type": "markdown",
   "metadata": {},
   "source": [
    "## Fast Review of Last Class\n"
   ]
  },
  {
   "cell_type": "code",
   "execution_count": null,
   "metadata": {},
   "outputs": [],
   "source": [
    "# load / reset df\n",
    "df = pd.read_csv(\"https://raw.githubusercontent.com/rfordatascience/tidytuesday/2e9bd5a67e09b14d01f616b00f7f7e0931515d24/data/2020/2020-07-07/coffee_ratings.csv\")\n",
    "df = df.rename(columns={'country_of_origin': 'origin', 'total_cup_points': 'points'})\n",
    "\n",
    "df = df[df['points']>65] # ignore some very low scores\n",
    "df = df[~df['origin'].isna()] # remove rows with unknown origin\n",
    "\n",
    "df['origin'] = df['origin'].str.replace(\"?\",\"'\") # fix character encoding issue\n",
    "df['origin_original'] = df.origin.copy().values # save original (corrected) names\n",
    "\n",
    "df.loc[df.origin=='Guatemala', 'points'] = \\\n",
    "    -df.loc[df.origin=='Guatemala', 'points'] \n",
    "df = df.loc[df.origin=='Guatemala']\n",
    "df = df[1:].copy()\n",
    "\n",
    "# shift it to be positive\n",
    "df.loc[df.origin=='Guatemala', 'points'] += 100\n",
    "\n",
    "fig = px.histogram(df[df.origin == 'Guatemala'], x='points', \n",
    "                   labels={'points': \"Statistician's transformation to allow Statistical Modelling<br>(we can always translate our results back to the original scale)\"}, \n",
    "                   title='Histogram of \"Transformed Points\" for Guatemala')\n",
    "fig.show() # USE `fig.show(renderer=\"png\")` FOR ALL GitHub and MarkUs SUBMISSIONS"
   ]
  },
  {
   "cell_type": "markdown",
   "metadata": {},
   "source": [
    "**Questions**\n",
    "\n",
    "1. What does the code below do? \n",
    "    1. What are the formal distribution **parameters**?\n",
    "    2. What are some other characteristics of the population<br> (that we might call \"'unnamed' parameters\")? \n",
    "2. Regarding **inference** versus **estimation** what is the role of the **sample size** $n$\n",
    "    1. For the **variance**\n",
    "    2. For the **standard error**?\n",
    "    3. For the eventual **bootstrapped confidence interval**?     "
   ]
  },
  {
   "cell_type": "code",
   "execution_count": null,
   "metadata": {},
   "outputs": [],
   "source": [
    "a, loc, scale = \\\n",
    "stats.gamma.fit(df.loc[df.origin=='Guatemala', 'points'].values)"
   ]
  },
  {
   "cell_type": "code",
   "execution_count": null,
   "metadata": {},
   "outputs": [],
   "source": [
    "support = np.linspace(df.loc[df.origin == 'Guatemala', 'points'].min(), \n",
    "                       df.loc[df.origin == 'Guatemala', 'points'].max(), 100)\n",
    "gamma_pdf = stats.gamma.pdf(support, a, loc=loc, scale=scale)\n",
    "\n",
    "# Create a line plot of the Gamma distribution \n",
    "# PDF (probability density function) model of the population \n",
    "fig = go.Figure()\n",
    "fig.add_trace(go.Scatter(x=support, y=gamma_pdf, mode='lines', \n",
    "                         name='Gamma PDF', line=dict(color='blue')))\n",
    "\n",
    "pop_mean = a*scale+loc  # gamma_pdf.mean() wrong when loc is used\n",
    "pop_std_dev = np.sqrt(a)*scale  # gamma_pdf.std() wrong when loc is used\n",
    "\n",
    "fig.add_vline(x=pop_mean, line_dash=\"dash\", line_color=\"green\", \n",
    "              annotation_text=f\"Mean: {mean:.2f}\", annotation_position=\"top right\")\n",
    "\n",
    "fig.add_vline(x=pop_mean - pop_std_dev, line_dash=\"dash\", line_color=\"red\", \n",
    "              annotation_text=f\"-1 SD: {pop_mean - pop_std_dev:.2f}\", annotation_position=\"bottom left\")\n",
    "\n",
    "fig.add_vline(x=pop_mean + pop_std_dev, line_dash=\"dash\", line_color=\"red\", \n",
    "              annotation_text=f\"+1 SD: {pop_mean + pop_std_dev:.2f}\", annotation_position=\"bottom right\")\n",
    "\n",
    "fig.update_layout(title=\"Gamma Distribution Fit for Points (Guatemala)\", \n",
    "                  xaxis_title=\"Points\", yaxis_title=\"Density\")\n",
    "fig.show()"
   ]
  },
  {
   "cell_type": "code",
   "execution_count": null,
   "metadata": {},
   "outputs": [],
   "source": [
    "from scipy import stats\n",
    "\n",
    "n = (df.origin=='Guatemala').sum()\n",
    "print(\"Original sample size\", n)\n",
    "\n",
    "simulations = 1000\n",
    "a_simulations = np.zeros(simulations)\n",
    "loc_simulations = np.zeros(simulations)\n",
    "scale_simulations = np.zeros(simulations)\n",
    "xbar_simulations = np.zeros(simulations)\n",
    "\n",
    "for i in range(simulations):\n",
    "    simulated_sample = stats.gamma(a=a, loc=loc, scale=scale).rvs(size=n)\n",
    "    a_simulations[i], \\\n",
    "    loc_simulations[i], \\\n",
    "    scale_simulations[i] = stats.gamma.fit(simulated_sample)\n",
    "    xbar_simulations[i] = simulated_sample.mean()"
   ]
  },
  {
   "cell_type": "code",
   "execution_count": null,
   "metadata": {},
   "outputs": [],
   "source": [
    "import plotly.subplots as sp\n",
    "fig = sp.make_subplots(rows=2, cols=2, subplot_titles=(\"Shape (a)\", \"Location (loc)\", \"Scale\", \"Sample Mean (x̄)\"))\n",
    "fig.add_trace(go.Histogram(x=a_simulations, nbinsx=30, name=\"Shape (a)\", showlegend=False), row=1, col=1)\n",
    "fig.add_trace(go.Histogram(x=loc_simulations, nbinsx=30, name=\"Location (loc)\", showlegend=False), row=1, col=2)\n",
    "fig.add_trace(go.Histogram(x=scale_simulations, nbinsx=30, name=\"Scale\", showlegend=False), row=2, col=1)\n",
    "fig.add_trace(go.Histogram(x=xbar_simulations, nbinsx=30, name=\"Sample Mean (x̄)\", showlegend=False), row=2, col=2)\n",
    "fig.update_layout(height=500, width=600, title_text=\"Histograms of Fitted Gamma Parameters and Sample Mean\")\n",
    "fig.update_xaxes(title_text=\"Shape (a)\", row=1, col=1)\n",
    "fig.update_xaxes(title_text=\"Location (loc)\", row=1, col=2)\n",
    "fig.update_xaxes(title_text=\"Scale\", row=2, col=1)\n",
    "fig.update_xaxes(title_text=\"Sample Mean (x̄)\", row=2, col=2)\n",
    "fig.show() # USE `fig.show(renderer=\"png\")` FOR ALL GitHub and MarkUs SUBMISSIONS"
   ]
  },
  {
   "cell_type": "markdown",
   "metadata": {},
   "source": [
    "**Questions**\n",
    "\n",
    "1. What is **variance**?\n",
    "2. What is **standard error**?\n",
    "3. How do we get a **bootstrapped confidence interval** for the **sample mean**?\n",
    "4. What's the difference between the analysis above and the analysis below?"
   ]
  },
  {
   "cell_type": "code",
   "execution_count": null,
   "metadata": {},
   "outputs": [],
   "source": [
    "n = (df.origin=='Guatemala').sum()\n",
    "print(\"Original sample size\", n)\n",
    "\n",
    "bootstrap_samples = 1000\n",
    "a_bootstrapped = np.zeros(bootstrap_samples)\n",
    "loc_bootstrapped = np.zeros(bootstrap_samples)\n",
    "scale_bootstrapped = np.zeros(bootstrap_samples)\n",
    "xbar_bootstrapped = np.zeros(bootstrap_samples)\n",
    "\n",
    "for i in range(bootstrap_samples):\n",
    "    simulated_sample = df.sample(n=n, replace=True).points\n",
    "    a_bootstrapped[i], \\\n",
    "    loc_bootstrapped[i], \\\n",
    "    scale_bootstrapped[i] = stats.gamma.fit(simulated_sample)\n",
    "    xbar_bootstrapped[i] = simulated_sample.mean()"
   ]
  },
  {
   "cell_type": "code",
   "execution_count": null,
   "metadata": {},
   "outputs": [],
   "source": [
    "# Define bins (same for both original and bootstrapped histograms)\n",
    "bin_edges_a = np.histogram_bin_edges(a_simulations, bins=30)\n",
    "bin_edges_loc = np.histogram_bin_edges(loc_simulations, bins=30)\n",
    "bin_edges_scale = np.histogram_bin_edges(scale_simulations, bins=30)\n",
    "bin_edges_xbar = np.histogram_bin_edges(xbar_simulations, bins=30)\n",
    "\n",
    "# Create 2x2 subplots\n",
    "fig = sp.make_subplots(rows=2, cols=2, subplot_titles=(\"Shape (a)\", \"Location (loc)\", \"Scale\", \"Sample Mean (x̄)\"))\n",
    "\n",
    "# Overlay original and bootstrapped histograms with transparency and forced same bins\n",
    "# Plot Shape (a)\n",
    "fig.add_trace(go.Histogram(x=a_simulations, xbins=dict(start=bin_edges_a[0], end=bin_edges_a[-1], size=np.diff(bin_edges_a)[0]),\n",
    "                           name=\"Shape (a)\", opacity=0.5, marker_color='blue', showlegend=False), row=1, col=1)\n",
    "fig.add_trace(go.Histogram(x=a_bootstrapped, xbins=dict(start=bin_edges_a[0], end=bin_edges_a[-1], size=np.diff(bin_edges_a)[0]),\n",
    "                           name=\"Bootstrapped Shape (a)\", opacity=0.5, marker_color='red', showlegend=False), row=1, col=1)\n",
    "\n",
    "# Plot Location (loc)\n",
    "fig.add_trace(go.Histogram(x=loc_simulations, xbins=dict(start=bin_edges_loc[0], end=bin_edges_loc[-1], size=np.diff(bin_edges_loc)[0]),\n",
    "                           name=\"Location (loc)\", opacity=0.5, marker_color='blue', showlegend=False), row=1, col=2)\n",
    "fig.add_trace(go.Histogram(x=loc_bootstrapped, xbins=dict(start=bin_edges_loc[0], end=bin_edges_loc[-1], size=np.diff(bin_edges_loc)[0]),\n",
    "                           name=\"Bootstrapped Location (loc)\", opacity=0.5, marker_color='red', showlegend=False), row=1, col=2)\n",
    "\n",
    "# Plot Scale\n",
    "fig.add_trace(go.Histogram(x=scale_simulations, xbins=dict(start=bin_edges_scale[0], end=bin_edges_scale[-1], size=np.diff(bin_edges_scale)[0]),\n",
    "                           name=\"Scale\", opacity=0.5, marker_color='blue', showlegend=False), row=2, col=1)\n",
    "fig.add_trace(go.Histogram(x=scale_bootstrapped, xbins=dict(start=bin_edges_scale[0], end=bin_edges_scale[-1], size=np.diff(bin_edges_scale)[0]),\n",
    "                           name=\"Bootstrapped Scale\", opacity=0.5, marker_color='red', showlegend=False), row=2, col=1)\n",
    "\n",
    "# Plot Sample Mean (x̄)\n",
    "fig.add_trace(go.Histogram(x=xbar_simulations, xbins=dict(start=bin_edges_xbar[0], end=bin_edges_xbar[-1], size=np.diff(bin_edges_xbar)[0]),\n",
    "                           name=\"Sample Mean (x̄)\", opacity=0.5, marker_color='blue', showlegend=False), row=2, col=2)\n",
    "fig.add_trace(go.Histogram(x=xbar_bootstrapped, xbins=dict(start=bin_edges_xbar[0], end=bin_edges_xbar[-1], size=np.diff(bin_edges_xbar)[0]),\n",
    "                           name=\"Bootstrapped Sample Mean (x̄)\", opacity=0.5, marker_color='red', showlegend=False), row=2, col=2)\n",
    "\n",
    "# Update layout to overlay the histograms\n",
    "fig.update_layout(height=500, width=600, title_text=\"Overlaid Histograms with Forced Same Bins\", barmode='overlay')\n",
    "\n",
    "# Update x-axis labels\n",
    "fig.update_xaxes(title_text=\"Shape (a)\", row=1, col=1)\n",
    "fig.update_xaxes(title_text=\"Location (loc)\", row=1, col=2)\n",
    "fig.update_xaxes(title_text=\"Scale\", row=2, col=1)\n",
    "fig.update_xaxes(title_text=\"Sample Mean (x̄)\", row=2, col=2)\n",
    "\n",
    "# Show the figure\n",
    "fig.show()"
   ]
  },
  {
   "cell_type": "markdown",
   "metadata": {},
   "source": [
    "## \"Proving\" bootstrapped confidence intervals"
   ]
  },
  {
   "cell_type": "code",
   "execution_count": null,
   "metadata": {},
   "outputs": [],
   "source": [
    "simulations = 1000  \n",
    "bootstrapped_ci_caputred = np.zeros(simulations)\n",
    "bootstrap_samples = 500\n",
    "xbar_bootstrapped = np.zeros(bootstrap_samples)\n",
    "\n",
    "n_ = n  # 10\n",
    "for j in range(simulations):\n",
    "    simulated_sample = stats.gamma(a=a, loc=loc, scale=scale).rvs(size=n_)\n",
    "    simulated_sample = pd.DataFrame({'points': simulated_sample})\n",
    "\n",
    "    for i in range(bootstrap_samples):\n",
    "        bootstrapped_sample = simulated_sample.sample(n=n_, replace=True).points\n",
    "        xbar_bootstrapped[i] = bootstrapped_sample.mean()\n",
    "        \n",
    "    bootstrapped_ci_caputred[j] =\\\n",
    "        1 == (pop_mean <= np.quantile(xbar_bootstrapped, [0.025, 0.975])).sum()\n",
    "    \n",
    "print(bootstrapped_ci_caputred.sum()/simulations)    "
   ]
  },
  {
   "cell_type": "markdown",
   "metadata": {},
   "source": [
    "**Questions** \n",
    "\n",
    "1. What's the difference between \"number of simulated samples\" VS \"number of bootstraped samples\"?\n",
    "2. Did we \"prove\" boostrapping works as promised?\n",
    "3. Did we demonstate how to correctly intepret **confidence intervals**?"
   ]
  },
  {
   "cell_type": "markdown",
   "metadata": {},
   "source": [
    "## A reminder/review of how to use ChatBots\n",
    "\n",
    "1. Don't do [this](https://chatgpt.com/share/66fd24f3-3a00-8007-a67b-e389bb4bb940)\n",
    "2. This is [better](https://chatgpt.com/share/66fd2ea8-0dd8-8007-bb44-41e63de657be)\n",
    "3. This is about the same, but also actually probably better"
   ]
  },
  {
   "cell_type": "code",
   "execution_count": null,
   "metadata": {},
   "outputs": [],
   "source": [
    "from IPython.display import YouTubeVideo\n",
    "YouTubeVideo('IM4wwDFUmXE', width=800, height=500)"
   ]
  },
  {
   "cell_type": "code",
   "execution_count": null,
   "metadata": {},
   "outputs": [],
   "source": [
    "YouTubeVideo('P8OgTEmJTeU', width=800, height=500)"
   ]
  },
  {
   "cell_type": "markdown",
   "metadata": {},
   "source": [
    "## Sampling Distribution of a statistic <br>*under the null hypothesis*\n"
   ]
  },
  {
   "cell_type": "code",
   "execution_count": null,
   "metadata": {},
   "outputs": [],
   "source": [
    "# We're going to ask a slightly different question\n",
    "\n",
    "patient_data['Improved'] = patient_data['HealthScoreChange']>0\n",
    "patient_data"
   ]
  },
  {
   "cell_type": "markdown",
   "metadata": {},
   "source": [
    "$$\\begin{align*}\n",
    "H_0 &{}: \\mu_{\\textrm{vaccine}}=\\mu_{\\textrm{no vaccine}}\\\\\n",
    "&{} \\;\\;\\;\\textrm{There is no difference }\\textbf{on average}\\textrm{ do to the vaccine} \\textbf{ is 50%}\\\\\\\\\n",
    "H_0 &{}: \\textrm{The vaccine has no effect }\\textbf{(on average)}\\textrm{ on patient health}\\\\\n",
    "H_0 &{}: \\textrm{The chance the vaccine improves patient health} \\textbf{ is 50%}\\\\\\\\\n",
    "H_0  &{}: p=0.5 \\quad \\textrm{instead of the equivalent} \\\\\n",
    "&{} \\quad\\quad\\quad\\quad\\;\\; H_0: \\textrm{The chance the vaccine improves patient health} \\textbf{ is 50%}\n",
    "\\end{align*}$$"
   ]
  },
  {
   "cell_type": "code",
   "execution_count": null,
   "metadata": {},
   "outputs": [],
   "source": [
    "population_parameter_value_under_H0 = 0.5\n",
    "\n",
    "observed_statistic = (patient_data.HealthScoreChange>0).mean()\n",
    "\n",
    "print('The p=0.5 Null Hypothesis of \"no effect\" on average')\n",
    "print('but an observed statistic of', observed_statistic, \"of the sample show increased health\")"
   ]
  },
  {
   "cell_type": "code",
   "execution_count": null,
   "metadata": {},
   "outputs": [],
   "source": [
    "np.random.seed(1)  # make simulation reproducible\n",
    "number_of_simulations = 10000  # experiment with this... what does this do?\n",
    "n_size = len(patient_data)  # 10\n",
    "IncreaseProportionSimulations_underH0random = np.zeros(number_of_simulations)\n",
    "\n",
    "# generate \"random improvement\" proportions assuming H0 (vaccine has no average effect) is true \n",
    "# meaning that the \"before and after\" differences are positive or negative at \"random\"\n",
    "for i in range(number_of_simulations):\n",
    "    \n",
    "    # why is this equivalent to the suggested idea above?\n",
    "    random_improvement = np.random.choice([0,1], size=n_size, replace=True)  # <<< `replace=True` ^^^\n",
    "\n",
    "    # why is .mean() a proportion? \n",
    "    IncreaseProportionSimulations_underH0random[i] = random_improvement.mean()\n",
    "    # why is this the statistic we're interested in? Hint: next section..."
   ]
  },
  {
   "cell_type": "markdown",
   "metadata": {},
   "source": [
    "### A p-value is the the probability that a statistic is as or more extreme than the observed statistic if the null hypothesis is true"
   ]
  },
  {
   "cell_type": "code",
   "execution_count": null,
   "metadata": {},
   "outputs": [],
   "source": [
    "# \"as or more extreme\" relative to the hypothesized parameter of the statistic!\n",
    "simulated_statistics = IncreaseProportionSimulations_underH0random\n",
    "\n",
    "SimulatedStats_as_or_more_extreme_than_ObservedStat = \\\n",
    "    abs(simulated_statistics - population_parameter_value_under_H0) >= \\\n",
    "    abs(observed_statistic - population_parameter_value_under_H0) \n",
    "    \n",
    "print('''Which simulated statistics are \"as or more extreme\"\n",
    "than the observed statistic? (of ''', observed_statistic, ')', sep=\"\")\n",
    "\n",
    "# figure for demonstration only: code details not of primary concern\n",
    "\n",
    "hist_data = [IncreaseProportionSimulations_underH0random+np.random.uniform(-0.05,0.05,size=len(IncreaseProportionSimulations_underH0random))]\n",
    "group_labels = ['Bootstrap<br>Sampling<br>Distribution<br>of the<br>Sample<br>Mean<br><br>assuming<br>that the<br>H0 null<br>hypothesis<br>IS TRUE']\n",
    "fig = ff.create_distplot(hist_data, group_labels, curve_type='normal',\n",
    "                         show_hist=True, show_rug=False, bin_size=0.1)\n",
    "pv_y = 2.5\n",
    "pv_y_ = .25\n",
    "fig.add_shape(type=\"line\", x0=observed_statistic, y0=0, \n",
    "              x1=observed_statistic, y1=pv_y,\n",
    "              line=dict(color=\"Green\", width=4), name=\"Observed Statistic\")\n",
    "fig.add_trace(go.Scatter(x=[observed_statistic], y=[pv_y+pv_y_], \n",
    "                         text=[\"Observed<br>Statistic<br>^\"], mode=\"text\", showlegend=False))\n",
    "# \"as or more extreme\" also include the \"symmetric\" observed statistic...\n",
    "symmetric_statistic = population_parameter_value_under_H0 -\\\n",
    "                      abs(observed_statistic-population_parameter_value_under_H0)\n",
    "fig.add_shape(type=\"line\", x0=symmetric_statistic, y0=0, \n",
    "              x1=symmetric_statistic, y1=pv_y,\n",
    "              line=dict(color=\"Green\", width=4), name=\"Observed Statistic\")\n",
    "fig.add_trace(go.Scatter(x=[symmetric_statistic], y=[pv_y+pv_y_], \n",
    "                         text=['\"Symmetric\" Observed Statistic<br>addrdssing for \"as or more extreme\"<br>^'], mode=\"text\", showlegend=False))\n",
    "\n",
    "# Add a transparent rectangle for the lower extreme region\n",
    "fig.add_shape(type=\"rect\", x0=-0.25, y0=0, x1=symmetric_statistic, y1=pv_y,\n",
    "              fillcolor=\"LightCoral\", opacity=0.5, line_width=0)\n",
    "# Add a transparent rectangle for the upper extreme region\n",
    "fig.add_shape(type=\"rect\", x0=observed_statistic, y0=0, x1=1.25, y1=pv_y,\n",
    "              fillcolor=\"LightCoral\", opacity=0.5, line_width=0)\n",
    "\n",
    "# Update layout\n",
    "fig.update_layout(\n",
    "    title=\"Bootstrapped Sampling Distribution<br>under H0 with p-value regions\",\n",
    "    xaxis_title=\"Mean Health Score Change\", yaxis_title=\"Density\", yaxis=dict(range=[0, pv_y+2*pv_y_]))\n",
    "fig.show() # USE `fig.show(renderer=\"png\")` FOR ALL GitHub and MarkUs SUBMISSIONS"
   ]
  },
  {
   "cell_type": "markdown",
   "metadata": {},
   "source": [
    "### Synthetics! \n",
    "\n",
    "![](https://www.scified.com/topics/1804189048037466.png)"
   ]
  },
  {
   "cell_type": "markdown",
   "metadata": {},
   "source": [
    "## VS the<br>_bootstrapped Sampling Distribution_ of a statistic\n",
    "\n",
    "|![](https://uselessetymology.com/wp-content/uploads/2019/10/bootstraps.png)|![](https://img.huffingtonpost.com/asset/5b6b3f1f2000002d00349e9d.jpeg?cache=92VfjlAeaf&ops=1200_630)|\n",
    "|-|-|\n",
    "| | |"
   ]
  },
  {
   "cell_type": "code",
   "execution_count": null,
   "metadata": {},
   "outputs": [],
   "source": [
    "hist_data = [bootstrap_means]\n",
    "group_labels = ['Bootstrapped<br>Sampling Distribution<br>of the Sample Mean']\n",
    "fig = ff.create_distplot(hist_data, group_labels, \n",
    "                         show_hist=True, show_rug=False, bin_size=0.4)\n",
    "\n",
    "# Add a line for the lower confidence interval\n",
    "ci_y = 0.35  # Adjust height as needed\n",
    "fig.add_shape(type=\"line\", x0=ci_lower, y0=0, x1=ci_lower, y1=ci_y,\n",
    "              line=dict(color=\"Red\", width=2), name=\"95% CI Lower\")\n",
    "# Add a line for the upper confidence interval\n",
    "fig.add_shape(type=\"line\", x0=ci_upper, y0=0, x1=ci_upper, y1=ci_y,\n",
    "              line=dict(color=\"Red\", width=2), name=\"95% CI Upper\")\n",
    "# Add a transparent rectangle for the confidence interval region\n",
    "fig.add_shape(type=\"rect\", x0=ci_lower, y0=0, x1=ci_upper, y1=ci_y,\n",
    "    fillcolor=\"LightSkyBlue\", opacity=0.5, line_width=0)\n",
    "# Add annotations for the confidence interval lines\n",
    "fig.add_trace(go.Scatter(x=[ci_lower, ci_upper], y=[ci_y+0.01, ci_y+0.01],  \n",
    "              text=[\"95% CI Lower\", \"95% CI Upper\"], mode=\"text\", showlegend=False))\n",
    "\n",
    "fig.update_layout(\n",
    "    title=\"Bootstrapped Sampling Distribution with 95% Confidence Interval\",\n",
    "    xaxis_title=\"Mean Health Score Change\", yaxis_title=\"Density\")\n",
    "fig.show() # USE `fig.show(renderer=\"png\")` FOR ALL GitHub and MarkUs SUBMISSIONS"
   ]
  },
  {
   "cell_type": "markdown",
   "metadata": {},
   "source": [
    "|![](https://cdn.dribbble.com/users/1064236/screenshots/5753511/redbull_fly_800x600.gif)|![](https://media1.giphy.com/media/VeGYtq4kReVJmt5XVM/giphy.gif)|\n",
    "|-|-|\n",
    "| | |"
   ]
  },
  {
   "cell_type": "markdown",
   "metadata": {},
   "source": [
    "## VS $\\alpha$-_significance levels_ and Type I and II Errors\n",
    "\n",
    "Check if you **p-value** is less than or equal to some pre-defined $\\alpha$-**significance level**, such as $\\alpha=0.5$ (which is the most commonly used version of a **statistical hypothsis test**)\n",
    "\n",
    "- A **hypothesis test** based on an $\\alpha$-**significance level**\n",
    "\n",
    "- IS THE SAME as a **hypothesis test** with a **confidence interval** with a $(1-\\alpha) \\times 100$%  **confidence level**\n",
    "\n",
    "- Hypothesis test at **significance level** $\\alpha=0.5 \\Longleftrightarrow 95\\%$ **confidence level** decision using a $95\\%$ confidence interval\n",
    "\n",
    "You MUST choose $\\alpha$ before you observe the data and calculate a statistic, otherwise the following meaning of $\\alpha$ will not be true\n",
    "\n",
    "- The $\\alpha$-**significance level** is the chance your **independent** and **identically distributed** (i.i.d.) **sample** will produce a **p-value** less than $\\alpha$ if the null hypothesis IS true, thereby resulting in a WRONG rejection of the null hypothesis at the $\\alpha$-**significance level**\n",
    "\n",
    "### Type I and II Errors\n",
    "\n",
    "| Decision       | Null Hypothesis is True   | Null Hypothesis is False |\n",
    "|:--------------:|:-------------------------:|:------------------------:|\n",
    "| Reject Null    | **Type I Error<br>(α chance this results<br> from an i.i.d. sample)**       | Correct Decision         |\n",
    "| Fail to Reject | Correct Decision           | **Type II Error <br>(β chance this results<br> from an i.i.d. sample)**|\n"
   ]
  },
  {
   "cell_type": "markdown",
   "metadata": {},
   "source": [
    "## Don't f@#k this up<br><sub>AKA mistakes that you make that make you dumb</sub>\n",
    "\n",
    "### Heaven\n",
    "\n",
    "- This is a 95% confidence interval.\n",
    "- I have 95% confidence this constructed interval captures the actual true population parameter value.\n",
    "- I have used a confidence interval procedure which will \"work\" for 95% of hypothetical i.i.d. samples.\n",
    "- There's a 95% chance this confidence interval \"worked\" and does \"capture\" the actual true population parameter value.\n",
    "\n",
    "### HELL _AND_ WRATH OF SCOTT\n",
    "\n",
    "- There's a 95% chance the parameter is in this confidence interval. \n",
    "    - **NOPE, sounds too much like we're saying parameters have \"chance\", but parameters don't have \"a chance\" of being \"this or that\".**\n",
    "- There's a 95% probability the parameter is in this confidence interval. \n",
    "    - **NOPE, sounds too much like we're saying parameters have \"probability\", but parameters don't behave \"probabilistically\".**\n",
    "\n",
    "### Heaven\n",
    "\n",
    "- **A p-value is the the probability that a statistic is as or more extreme than the observed statistic if the null hypothesis is true**.\n",
    "\n",
    "- See if it's smaller than an $\\alpha(=0.05?)$ and **reject the null hypothesis** at this **significance level** if so, which is interpretated the same as when you use a $(1-\\alpha)\\times 100$% **confidence interval**.\n",
    "\n",
    "- Just use the p-value to characterize the **strength of evidence against the null hypothesis** based on the table below.\n",
    "\n",
    "### HELL _AND_ WRATH OF SCOTT\n",
    "\n",
    "- A p-value is the probability the null hypothesis is true. \n",
    "    - **OMG. NO. THIS IS NOT TRUE.**\n",
    "    \n",
    "- A p-value is the chance we wrongly reject the null hypothesis. \n",
    "    - **What? NO. That's the $\\alpha$-significance level. Why are you confusing this with a p-value??**\n",
    "    \n",
    "- A p-value is the probability that the hypothesized parameter value is correct. \n",
    "    - **Omg Jesus Christ kill me. We JUST finished talking about WHY we're so careful about the way we talk about confidence intervals; because, parameters don't have \"chances\" or \"probabilities\"...**\n"
   ]
  },
  {
   "cell_type": "markdown",
   "metadata": {},
   "source": [
    "### Just interpret p-values in terms of _Strength of Evidence_ against the null hypothesis\n",
    "\n",
    "|p-value|Evidence|\n",
    "|-|-|\n",
    "|$$p > 0.1$$|No evidence against the null hypothesis|\n",
    "|$$0.1 \\ge p > 0.05$$|Weak evidence against the null hypothesis|\n",
    "|$$0.05 \\ge p > 0.01$$|Moderate evidence against the null hypothesis|\n",
    "|$$0.01 \\ge p > 0.001$$|Strong evidence against the null hypothesis|\n",
    "|$$0.001 \\ge p$$|Very strong evidence against the null hypothesis|\n",
    "\n"
   ]
  },
  {
   "cell_type": "markdown",
   "metadata": {},
   "source": [
    "## Or just use _confidence intervals_"
   ]
  },
  {
   "cell_type": "markdown",
   "metadata": {},
   "source": [
    "**Questions**\n",
    "\n",
    "1. Why is a **confidence interval** better than a **hypothesis test**?"
   ]
  },
  {
   "cell_type": "markdown",
   "metadata": {},
   "source": [
    "|![](https://cdn.dribbble.com/users/1064236/screenshots/5753511/redbull_fly_800x600.gif)|![](https://media1.giphy.com/media/VeGYtq4kReVJmt5XVM/giphy.gif)|\n",
    "|-|-|\n",
    "| | |"
   ]
  }
 ],
 "metadata": {
  "kernelspec": {
   "display_name": "Python 3 (ipykernel)",
   "language": "python",
   "name": "python3"
  },
  "language_info": {
   "codemirror_mode": {
    "name": "ipython",
    "version": 3
   },
   "file_extension": ".py",
   "mimetype": "text/x-python",
   "name": "python",
   "nbconvert_exporter": "python",
   "pygments_lexer": "ipython3",
   "version": "3.11.4"
  }
 },
 "nbformat": 4,
 "nbformat_minor": 2
}
