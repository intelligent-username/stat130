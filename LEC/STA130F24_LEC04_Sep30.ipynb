{
 "cells": [
  {
   "cell_type": "markdown",
   "id": "8afeea320c73ad70",
   "metadata": {
    "id": "8afeea320c73ad70"
   },
   "source": [
    "# STA130 LEC 04 (Sep 30)\n",
    "## Confidence Intervals / Statistical Inference\n",
    "\n",
    "- Populations VS Samples \n",
    "    - `normal_distribution = stats.norm(loc=mean_μ, scale=std_σ)`\n",
    "    - `normal_distribution.rvs(size=n)`\n",
    "- Gamma Distributions VS Normal Distributions\n",
    "    - `gamma_distribution = \\`<br>\n",
    "      `stats.gamma(shape=shape_α, scale=scale_θ)`\n",
    "    - `gamma_distribution.rvs(size)`    \n",
    "- Parameters VS Statistics\n",
    "    - `shape_α` and `scale_θ`\n",
    "    - `gamma_distribution.mean()` and `gamma_distribution.std()`\n",
    "    - `gamma_distribution.rvs(size).mean()`    \n",
    "- Estimation\n",
    "    - Model Fitting with `.fit(data)`\n",
    "- Inference\n",
    "    - Bootstrapping `df['col'].sample(n=n, replace=True)`\n",
    "    - Confindence intervals `np.quantile(bootstrapped_stats,[0.025,0.975])`\n",
    "- Confidence Level"
   ]
  },
  {
   "cell_type": "code",
   "execution_count": null,
   "id": "44527e1a",
   "metadata": {},
   "outputs": [],
   "source": [
    "from scipy import stats\n",
    "\n",
    "# population\n",
    "population_parameter_alpha_α = 2\n",
    "population_parameter_theta_θ = 4\n",
    "gamma_distribution = \\\n",
    "  stats.gamma(a=population_parameter_alpha_α, \n",
    "              scale=population_parameter_theta_θ)\n",
    "\n",
    "# sample\n",
    "n = 100 # adjust and experiment with this\n",
    "# np.random.seed(130)\n",
    "x = gamma_distribution.rvs(size=n) # \"x\" is a sample\n",
    "# print(x)\n",
    "\n",
    "# mean\n",
    "print(\"The sample mean for the current sample is\", x.mean()) \n",
    "# the sample mean \"x-bar\" is a (sample) \"statistic\" (not a \"parameter\")\n",
    "# \"x-bar\" is the \"average\" of the numbers in a sample"
   ]
  },
  {
   "cell_type": "code",
   "execution_count": null,
   "id": "ca52554f",
   "metadata": {},
   "outputs": [],
   "source": [
    "import plotly.express as px\n",
    "import plotly.graph_objects as go\n",
    "import pandas as pd\n",
    "import numpy as np\n",
    "\n",
    "n = 100 # adjust and experiment with this\n",
    "# np.random.seed(130)\n",
    "x = gamma_distribution.rvs(size=n) \n",
    "\n",
    "fig = px.histogram(pd.DataFrame({'sampled values': x}), x='sampled values',\n",
    "                   histnorm='probability density') # so the scale matches the pdf below\n",
    "fig.add_vline(x=x.mean(), line_dash=\"dot\", annotation_text='Sample mean '+str(x.mean()))\n",
    "\n",
    "support = np.linspace(0,50,500)\n",
    "fig.add_trace(go.Scatter(x=support, y=gamma_distribution.pdf(support), \n",
    "                         mode='lines', name='Poulation Model<br>(gamma distribution)'))\n",
    "fig.show() # USE `fig.show(renderer=\"png\")` FOR ALL GitHub and MarkUs SUBMISSIONS    "
   ]
  },
  {
   "cell_type": "code",
   "execution_count": null,
   "id": "3f8226a0",
   "metadata": {},
   "outputs": [],
   "source": [
    "print(\"shape parameter α is \", population_parameter_alpha_α, \"\\n\",\n",
    "      \"scale parameter θ is \", population_parameter_theta_θ, \"\\n\",\n",
    "      \"shape α times scale θ is \", population_parameter_alpha_α*population_parameter_theta_θ, \"\\n\",\n",
    "      \"population mean (an 'unnamed' gamma population parameter) is \", gamma_distribution.mean(), \"\\n\", \n",
    "      \"gamma 'unnamed' μ = α * θ\", sep=\"\")"
   ]
  },
  {
   "cell_type": "code",
   "execution_count": null,
   "id": "e8f9c1cf",
   "metadata": {},
   "outputs": [],
   "source": [
    "#https://stackoverflow.com/questions/52771328/plotly-chart-not-showing-in-jupyter-notebook\n",
    "import plotly.offline as pyo\n",
    "# Set notebook mode to work in offline\n",
    "pyo.init_notebook_mode()"
   ]
  },
  {
   "cell_type": "code",
   "execution_count": null,
   "id": "480ae61d",
   "metadata": {},
   "outputs": [],
   "source": [
    "n = 100 # adjust and experiment with this\n",
    "x = gamma_distribution.rvs(size=n) \n",
    "\n",
    "import plotly.figure_factory as ff\n",
    "\n",
    "hist_data = [x]\n",
    "group_labels = ['Gamma Sample']\n",
    "fig = ff.create_distplot(hist_data, group_labels, show_hist=True, \n",
    "                         show_rug=False, bin_size=3)\n",
    "\n",
    "fig.add_trace(go.Scatter(x=support, y=gamma_distribution.pdf(support), \n",
    "                         mode='lines', line=dict(width=4), name='Poulation Model<br>(gamma distribution)'))\n",
    "\n",
    "a, loc, scale = stats.gamma.fit(x, floc=0)\n",
    "fig.add_trace(go.Scatter(x=support, \n",
    "                         y=stats.gamma(a=a, scale=scale).pdf(support),\n",
    "                         mode='lines', line=dict(dash='dot', width=4), name='Estimated Poulation Model<br>(fitted gamma distribution)'))\n",
    "\n",
    "fig.show()"
   ]
  },
  {
   "cell_type": "code",
   "execution_count": null,
   "id": "28be92ab",
   "metadata": {},
   "outputs": [],
   "source": [
    "n = 100 # adjust and experiment with this\n",
    "x = gamma_distribution.rvs(size=n) \n",
    "\n",
    "# `floc=0` means `loc` does not shift gamma left or right\n",
    "a, loc, scale = stats.gamma.fit(x, floc=0)\n",
    "\n",
    "print(\"Actual shape `population_parameter_alpha_α` is \", \n",
    "      gamma_distribution.kwds['a'], \"\\n\",\n",
    "      \"Actual scale `population_parameter_theta_θ` is \",\n",
    "      gamma_distribution.kwds['scale'], \"\\n\",\n",
    "      \"Esimated population shape parameter is \", a, \"\\n\",\n",
    "      \"Esimated population scale parameter is \", scale, \"\\n\",\n",
    "      \"Esimated population 'unnamed' mean parameter is \", a*scale, \"\\n\",\n",
    "      \"Esimated 'unnamed' mean equal to shape*scale is \",\n",
    "      stats.gamma(a=a, scale=scale).mean(), sep=\"\")"
   ]
  },
  {
   "cell_type": "code",
   "execution_count": null,
   "id": "aa989689",
   "metadata": {},
   "outputs": [],
   "source": [
    "# load / reset df\n",
    "df = pd.read_csv(\"https://raw.githubusercontent.com/rfordatascience/tidytuesday/2e9bd5a67e09b14d01f616b00f7f7e0931515d24/data/2020/2020-07-07/coffee_ratings.csv\")\n",
    "df = df.rename(columns={'country_of_origin': 'origin', 'total_cup_points': 'points'})\n",
    "\n",
    "df = df[df['points']>65] # ignore some very low scores\n",
    "df = df[~df['origin'].isna()] # remove rows with unknown origin\n",
    "\n",
    "df['origin'] = df['origin'].str.replace(\"?\",\"'\") # fix character encoding issue\n",
    "df['origin_original'] = df.origin.copy().values # save original (corrected) names"
   ]
  },
  {
   "cell_type": "code",
   "execution_count": null,
   "id": "e18cb6d8",
   "metadata": {},
   "outputs": [],
   "source": [
    "# just run to get to the plot -- we are not interested in reviewing this code now\n",
    "\n",
    "# add line breaks to titles\n",
    "df.origin = df.origin_original.str.replace(\" (\", \"<br>(\").replace(\", \", \",<br>\")\n",
    "\n",
    "fig = px.histogram(df[df.origin=='Guatemala'][1:], x='points')\n",
    "fig.show() # USE `fig.show(renderer=\"png\")` FOR ALL GitHub and MarkUs SUBMISSIONS"
   ]
  },
  {
   "cell_type": "code",
   "execution_count": null,
   "id": "e3eb0e70",
   "metadata": {},
   "outputs": [],
   "source": [
    "df.loc[df.origin=='Guatemala', 'points'] = \\\n",
    "    -df.loc[df.origin=='Guatemala', 'points'] \n",
    "df = df.loc[df.origin=='Guatemala']\n",
    "df = df[1:].copy()\n",
    "fig = px.histogram(df[df.origin=='Guatemala'], x='points')\n",
    "fig.show() # USE `fig.show(renderer=\"png\")` FOR ALL GitHub and MarkUs SUBMISSIONS"
   ]
  },
  {
   "cell_type": "code",
   "execution_count": null,
   "id": "bdbe12b5",
   "metadata": {},
   "outputs": [],
   "source": [
    "# shift it to be positive\n",
    "df.loc[df.origin=='Guatemala', 'points'] += 100"
   ]
  },
  {
   "cell_type": "code",
   "execution_count": null,
   "id": "e14841c2",
   "metadata": {},
   "outputs": [],
   "source": [
    "fig = px.histogram(df[df.origin=='Guatemala'], x='points')\n",
    "fig.show() # USE `fig.show(renderer=\"png\")` FOR ALL GitHub and MarkUs SUBMISSIONS"
   ]
  },
  {
   "cell_type": "code",
   "execution_count": null,
   "id": "10cbf549",
   "metadata": {},
   "outputs": [],
   "source": [
    "a, loc, scale = \\\n",
    "stats.gamma.fit(df.loc[df.origin=='Guatemala', 'points'].values)"
   ]
  },
  {
   "cell_type": "code",
   "execution_count": null,
   "id": "84dcb384",
   "metadata": {},
   "outputs": [],
   "source": [
    "hist_data = [df.loc[df.origin=='Guatemala', 'points'].values]\n",
    "group_labels = ['Sample (Guatemala)']\n",
    "fig = ff.create_distplot(hist_data, group_labels, show_hist=True, \n",
    "                         show_rug=False, bin_size=1)\n",
    "\n",
    "support = np.linspace(0,15,500)\n",
    "\n",
    "fig.add_trace(go.Scatter(x=support+loc, \n",
    "                         y=stats.gamma(a=a, scale=scale).pdf(support),\n",
    "                         mode='lines', line=dict(dash='dot', width=4), name='Estimated Poulation Model<br>(fitted gamma distribution)'))\n",
    "\n",
    "fig.show() # USE `fig.show(renderer=\"png\")` FOR ALL GitHub and MarkUs SUBMISSIONS"
   ]
  },
  {
   "cell_type": "code",
   "execution_count": null,
   "id": "f15997d37fbef09",
   "metadata": {
    "id": "f15997d37fbef09"
   },
   "outputs": [],
   "source": [
    "n = (df.origin=='Guatemala').sum()\n",
    "print(\"Original sample size\", n)\n",
    "\n",
    "simulations = 1000\n",
    "a_simulations = np.zeros(simulations)\n",
    "loc_simulations = np.zeros(simulations)\n",
    "scale_simulations = np.zeros(simulations)\n",
    "xbar_simulations = np.zeros(simulations)\n",
    "\n",
    "for i in range(simulations):\n",
    "    simulated_sample = stats.gamma(a=a, loc=loc, scale=scale).rvs(size=n)\n",
    "    a_simulations[i], \\\n",
    "    loc_simulations[i], \\\n",
    "    scale_simulations[i] = stats.gamma.fit(simulated_sample)\n",
    "    xbar_simulations[i] = simulated_sample.mean()"
   ]
  },
  {
   "cell_type": "code",
   "execution_count": null,
   "id": "658e0c10",
   "metadata": {},
   "outputs": [],
   "source": [
    "import plotly.subplots as sp\n",
    "fig = sp.make_subplots(rows=2, cols=2, subplot_titles=(\"Shape (a)\", \"Location (loc)\", \"Scale\", \"Sample Mean (x̄)\"))\n",
    "fig.add_trace(go.Histogram(x=a_simulations, nbinsx=30, name=\"Shape (a)\", showlegend=False), row=1, col=1)\n",
    "fig.add_trace(go.Histogram(x=loc_simulations, nbinsx=30, name=\"Location (loc)\", showlegend=False), row=1, col=2)\n",
    "fig.add_trace(go.Histogram(x=scale_simulations, nbinsx=30, name=\"Scale\", showlegend=False), row=2, col=1)\n",
    "fig.add_trace(go.Histogram(x=xbar_simulations, nbinsx=30, name=\"Sample Mean (x̄)\", showlegend=False), row=2, col=2)\n",
    "fig.update_layout(height=500, width=600, title_text=\"Histograms of Fitted Gamma Parameters and Sample Mean\")\n",
    "fig.update_xaxes(title_text=\"Shape (a)\", row=1, col=1)\n",
    "fig.update_xaxes(title_text=\"Location (loc)\", row=1, col=2)\n",
    "fig.update_xaxes(title_text=\"Scale\", row=2, col=1)\n",
    "fig.update_xaxes(title_text=\"Sample Mean (x̄)\", row=2, col=2)\n",
    "fig.show() # USE `fig.show(renderer=\"png\")` FOR ALL GitHub and MarkUs SUBMISSIONS"
   ]
  },
  {
   "cell_type": "code",
   "execution_count": null,
   "id": "ec87a47c",
   "metadata": {},
   "outputs": [],
   "source": [
    "n = (df.origin=='Guatemala').sum()\n",
    "print(\"Original sample size\", n)\n",
    "\n",
    "bootstrap_samples = 1000\n",
    "a_bootstrapped = np.zeros(bootstrap_samples)\n",
    "loc_bootstrapped = np.zeros(bootstrap_samples)\n",
    "scale_bootstrapped = np.zeros(bootstrap_samples)\n",
    "xbar_bootstrapped = np.zeros(bootstrap_samples)\n",
    "\n",
    "for i in range(bootstrap_samples):\n",
    "    simulated_sample = df.sample(n=n, replace=True).points\n",
    "    a_bootstrapped[i], \\\n",
    "    loc_bootstrapped[i], \\\n",
    "    scale_bootstrapped[i] = stats.gamma.fit(simulated_sample)\n",
    "    xbar_bootstrapped[i] = simulated_sample.mean()"
   ]
  },
  {
   "cell_type": "code",
   "execution_count": null,
   "id": "615d1b0a",
   "metadata": {},
   "outputs": [],
   "source": [
    "fig = sp.make_subplots(rows=2, cols=2, subplot_titles=(\"Shape (a)\", \"Location (loc)\", \"Scale\", \"Sample Mean (x̄)\"))\n",
    "fig.add_trace(go.Histogram(x=a_bootstrapped, nbinsx=30, name=\"Bootstrapped Shape (a)\", showlegend=False), row=1, col=1)\n",
    "fig.add_trace(go.Histogram(x=loc_bootstrapped, nbinsx=30, name=\"Bootstrapped Location (loc)\", showlegend=False), row=1, col=2)\n",
    "fig.add_trace(go.Histogram(x=scale_bootstrapped, nbinsx=30, name=\"Bootstrapped Scale\", showlegend=False), row=2, col=1)\n",
    "fig.add_trace(go.Histogram(x=xbar_bootstrapped, nbinsx=30, name=\"Bootstrapped Sample Mean (x̄)\", showlegend=False), row=2, col=2)\n",
    "fig.update_layout(height=500, width=600, title_text=\"Histograms of Bootstrapped Gamma Parameters and Sample Mean\")\n",
    "fig.update_xaxes(title_text=\"Bootstrapped Shape (a)\", row=1, col=1)\n",
    "fig.update_xaxes(title_text=\"Bootstrapped Location (loc)\", row=1, col=2)\n",
    "fig.update_xaxes(title_text=\"Bootstrapped Scale\", row=2, col=1)\n",
    "fig.update_xaxes(title_text=\"Bootstrapped Sample Mean (x̄)\", row=2, col=2)\n",
    "fig.show() # USE `fig.show(renderer=\"png\")` FOR ALL GitHub and MarkUs SUBMISSIONS"
   ]
  },
  {
   "cell_type": "code",
   "execution_count": null,
   "id": "42a775f4",
   "metadata": {},
   "outputs": [],
   "source": [
    "# Define bins (same for both original and bootstrapped histograms)\n",
    "bin_edges_a = np.histogram_bin_edges(a_simulations, bins=30)\n",
    "bin_edges_loc = np.histogram_bin_edges(loc_simulations, bins=30)\n",
    "bin_edges_scale = np.histogram_bin_edges(scale_simulations, bins=30)\n",
    "bin_edges_xbar = np.histogram_bin_edges(xbar_simulations, bins=30)\n",
    "\n",
    "# Create 2x2 subplots\n",
    "fig = sp.make_subplots(rows=2, cols=2, subplot_titles=(\"Shape (a)\", \"Location (loc)\", \"Scale\", \"Sample Mean (x̄)\"))\n",
    "\n",
    "# Overlay original and bootstrapped histograms with transparency and forced same bins\n",
    "# Plot Shape (a)\n",
    "fig.add_trace(go.Histogram(x=a_simulations, xbins=dict(start=bin_edges_a[0], end=bin_edges_a[-1], size=np.diff(bin_edges_a)[0]),\n",
    "                           name=\"Shape (a)\", opacity=0.5, marker_color='blue', showlegend=False), row=1, col=1)\n",
    "fig.add_trace(go.Histogram(x=a_bootstrapped, xbins=dict(start=bin_edges_a[0], end=bin_edges_a[-1], size=np.diff(bin_edges_a)[0]),\n",
    "                           name=\"Bootstrapped Shape (a)\", opacity=0.5, marker_color='red', showlegend=False), row=1, col=1)\n",
    "\n",
    "# Plot Location (loc)\n",
    "fig.add_trace(go.Histogram(x=loc_simulations, xbins=dict(start=bin_edges_loc[0], end=bin_edges_loc[-1], size=np.diff(bin_edges_loc)[0]),\n",
    "                           name=\"Location (loc)\", opacity=0.5, marker_color='blue', showlegend=False), row=1, col=2)\n",
    "fig.add_trace(go.Histogram(x=loc_bootstrapped, xbins=dict(start=bin_edges_loc[0], end=bin_edges_loc[-1], size=np.diff(bin_edges_loc)[0]),\n",
    "                           name=\"Bootstrapped Location (loc)\", opacity=0.5, marker_color='red', showlegend=False), row=1, col=2)\n",
    "\n",
    "# Plot Scale\n",
    "fig.add_trace(go.Histogram(x=scale_simulations, xbins=dict(start=bin_edges_scale[0], end=bin_edges_scale[-1], size=np.diff(bin_edges_scale)[0]),\n",
    "                           name=\"Scale\", opacity=0.5, marker_color='blue', showlegend=False), row=2, col=1)\n",
    "fig.add_trace(go.Histogram(x=scale_bootstrapped, xbins=dict(start=bin_edges_scale[0], end=bin_edges_scale[-1], size=np.diff(bin_edges_scale)[0]),\n",
    "                           name=\"Bootstrapped Scale\", opacity=0.5, marker_color='red', showlegend=False), row=2, col=1)\n",
    "\n",
    "# Plot Sample Mean (x̄)\n",
    "fig.add_trace(go.Histogram(x=xbar_simulations, xbins=dict(start=bin_edges_xbar[0], end=bin_edges_xbar[-1], size=np.diff(bin_edges_xbar)[0]),\n",
    "                           name=\"Sample Mean (x̄)\", opacity=0.5, marker_color='blue', showlegend=False), row=2, col=2)\n",
    "fig.add_trace(go.Histogram(x=xbar_bootstrapped, xbins=dict(start=bin_edges_xbar[0], end=bin_edges_xbar[-1], size=np.diff(bin_edges_xbar)[0]),\n",
    "                           name=\"Bootstrapped Sample Mean (x̄)\", opacity=0.5, marker_color='red', showlegend=False), row=2, col=2)\n",
    "\n",
    "# Update layout to overlay the histograms\n",
    "fig.update_layout(height=500, width=600, title_text=\"Overlaid Histograms with Forced Same Bins\", barmode='overlay')\n",
    "\n",
    "# Update x-axis labels\n",
    "fig.update_xaxes(title_text=\"Shape (a)\", row=1, col=1)\n",
    "fig.update_xaxes(title_text=\"Location (loc)\", row=1, col=2)\n",
    "fig.update_xaxes(title_text=\"Scale\", row=2, col=1)\n",
    "fig.update_xaxes(title_text=\"Sample Mean (x̄)\", row=2, col=2)\n",
    "\n",
    "# Show the figure\n",
    "fig.show()"
   ]
  },
  {
   "cell_type": "code",
   "execution_count": null,
   "id": "f31be408",
   "metadata": {},
   "outputs": [],
   "source": [
    "np.quantile(xbar_simulations,[0.025,0.975])"
   ]
  },
  {
   "cell_type": "code",
   "execution_count": null,
   "id": "84cbb9b9",
   "metadata": {},
   "outputs": [],
   "source": [
    "np.quantile(xbar_bootstrapped,[0.025,0.975])"
   ]
  }
 ],
 "metadata": {
  "colab": {
   "provenance": []
  },
  "kernelspec": {
   "display_name": "Python 3 (ipykernel)",
   "language": "python",
   "name": "python3"
  },
  "language_info": {
   "codemirror_mode": {
    "name": "ipython",
    "version": 3
   },
   "file_extension": ".py",
   "mimetype": "text/x-python",
   "name": "python",
   "nbconvert_exporter": "python",
   "pygments_lexer": "ipython3",
   "version": "3.11.4"
  }
 },
 "nbformat": 4,
 "nbformat_minor": 5
}
