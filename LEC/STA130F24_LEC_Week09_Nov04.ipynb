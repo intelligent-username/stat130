{
 "cells": [
  {
   "cell_type": "markdown",
   "id": "4f023c23",
   "metadata": {},
   "source": [
    "# STA130 LEC 08 (Nov 04)\n",
    "\n",
    "## Didn't we already do Group Comparison? NO! Only a little.\n",
    "\n",
    "1. **WELCOME BACK TO EARTH REVIEWQ**\n",
    "    1. It's time to ~~GET TO WORK~~ PLAY ANOTHER GAME\n",
    "    2. \"When you're doing something fun it's not work\" -- some wiseass oldass person said this, I'm sure\n",
    "    3. Scientific evidence suggests that \"challenge\" moments where you really get tested and have to figure out if you ACTUALLY know something are EXTREMELY POWERFUL AND FORMATIVE (and no I can't be bothered to actually gather and present this evidence for you in a organized distillled this is a \"trust me I'm an authority\" type situation and just because that's a logical fallocy in an argument doesn't mean it's not true)  \n",
    "    \n",
    "    \n",
    "2. **THINK-PAIR-SHARE**<br>*Sample A has 90 data points. Sample B has 110 data points. No individuals are the same across samples.*\n",
    "    1. What hypothesis testing question might we answer here? \n",
    "    2. What statistics would you use for these?\n",
    "    3. How would that change for different types of data? \n",
    "        1. Continuous?\n",
    "        2. Binary??\n",
    "        3. Categorical??? \n",
    "    4. Assuming you probably figured out a difference statistic you should use, what will you do? **I don't think you know**\n",
    "    \n",
    "    \n",
    "3. Doing statistics for two (unpaired) samples\n",
    "\n",
    "    1. **Permutation test**\n",
    "    2. **Two-sample bootstrapped confidence interval**\n",
    "    3. **Indicator variable contrasts**\n",
    "    4. And what's the difference between ALL of these methods?\n",
    "\n",
    "\n",
    "4. **Self Evaluation: what's the correlation of your understand versus the true of the following items?<br>AKA what's your 0%-100% (or, techically -100%-100%) understanding level for the following topics?**\n",
    "    1. Bootstrapped Confidence Intervals\n",
    "    2. \"Coin Flippling\" sampling distribution hypothesis testing for \"paired samples\"\n",
    "    3. Calculating p-values based on observed statistics and \"sampling distributions under the null\"\n",
    "    4. Correlation\n",
    "    5. The normal \"Simple Linear Regression\" model\n",
    "    6. Fitting Simple Linear Regression models\n",
    "    7. Making predictions from linear models\n",
    "    8. Using Simple Linear Regression to evaluate the evidence of association between two continue variables\n",
    "    9. Assessming the assumptions of Simple Linear Regression using residuals\n",
    "    10. Hypothesis testing for two unpaired samples using a permutation test (as opposed to hypothesis testing based on differences for \"paired samples\")\n",
    "    11. Hypothesis testing for two groups (unpaired samples) using indicator variables in Simple Linear Regression\n",
    "    12. \"Double\" bootstrap confidence intervals estimating difference parameters for two groups (unpaired samples)\n",
    "\n",
    "\n",
    "5. **Student Lecture Summary**\n",
    "\n"
   ]
  },
  {
   "cell_type": "code",
   "execution_count": null,
   "id": "5cd5df24",
   "metadata": {},
   "outputs": [],
   "source": [
    "import pandas as pd\n",
    "\n",
    "url = \"https://raw.githubusercontent.com/KeithGalli/pandas/master/pokemon_data.csv\"\n",
    "# fail https://github.com/KeithGalli/pandas/blob/master/pokemon_data.csv\n",
    "pokeaman = pd.read_csv(url)\n",
    "pokeaman"
   ]
  },
  {
   "cell_type": "code",
   "execution_count": null,
   "id": "379f2542",
   "metadata": {},
   "outputs": [],
   "source": [
    "pokeaman.describe()"
   ]
  },
  {
   "cell_type": "markdown",
   "id": "41885601",
   "metadata": {},
   "source": [
    "### 2. THINK-PAIR-SHARE \"answers\"\n",
    "\n",
    "1. **Continuous?**<br><br>\n",
    "\n",
    "    1. Paired sample? \n",
    "    \n",
    "    2. *Just One Sample.* How will you test this? There are two ways you might be able to think to do this. \n",
    "    \n",
    "       $H_0: \\mu_{\\textrm{attack}}=100$   \n",
    "       Are there any other ideas? $$ $$\n",
    "       <!-- $$H_0: p_{\\textrm{attack}\\geq100}=0.5$$ -->\n",
    "\n",
    "    3. **UNPAIRED sample?**\n",
    "\n",
    "\n",
    "2. **Binary??**<br><br>\n",
    "\n",
    "    1. ONE sample\n",
    "\n",
    "    $H_0: p_{\\textrm{legendary}}=0.5$ or maybe instead $H_0: p_{\\textrm{legendary}}=0.01$ $$ $$\n",
    "\n",
    "    2. Paired sample? $$ $$\n",
    "    \n",
    "    3. **UNPAIRED sample?** \n",
    "    \n",
    "\n",
    "3. **Categorical???**\n",
    "\n",
    "\n"
   ]
  },
  {
   "cell_type": "markdown",
   "id": "e739d39f",
   "metadata": {},
   "source": [
    "#### 1. Continuous?\n",
    "\n",
    "A. Paired sample?\n",
    "\n",
    "$H_0: \\mu_{\\textrm{attack}}=\\mu_{\\textrm{defense}}$ \n",
    "\n",
    "$H_0: p_{\\textrm{attack} \\geq \\textrm{defense}} = 0.5$ \n"
   ]
  },
  {
   "cell_type": "code",
   "execution_count": null,
   "id": "d427ad7f",
   "metadata": {},
   "outputs": [],
   "source": [
    "import numpy as np \n",
    "\n",
    "# Set parameters for bootstrap\n",
    "n_bootstraps = 1000  # Number of bootstrap samples\n",
    "sample_size = len(pokeaman)  # Sample size matches the original dataset\n",
    "bootstrap_means = np.zeros(n_bootstraps)\n",
    "\n",
    "for i in range(n_bootstraps):\n",
    "    bootstrap_means[i] = (pokeaman[\"Attack\"]-pokeaman[\"Defense\"]).sample(n=sample_size, replace=True).mean()\n",
    "\n",
    "np.quantile(bootstrap_means, [0.05, 0.95])"
   ]
  },
  {
   "cell_type": "code",
   "execution_count": null,
   "id": "c72e430d",
   "metadata": {},
   "outputs": [],
   "source": [
    "simulated_proportions = bootstrap_means.copy()\n",
    "for i in range(n_bootstraps):\n",
    "    simulated_proportions[i] = (np.random.choice([0,1], p=[0.5,0.5], replace=True, size=sample_size)).mean()\n",
    "\n",
    "fig = px.histogram(pd.DataFrame({\"simulated_proportions\": simulated_proportions}), nbins=30,\n",
    "                                title=\"50/50 'Coin Flip' Sampling Distribution for Attack>=100\")\n",
    "\n",
    "attack_biggerthan_defense = (pokeaman[\"Attack\"]>=pokeaman[\"Defense\"]).mean()\n",
    "fig.add_vline(x=attack_biggerthan_defense, line_dash=\"dash\", line_color=\"red\",\n",
    "              annotation_text=f\"Proportion >= 100: {attack_biggerthan_defense:.2f}\",\n",
    "              annotation_position=\"top right\")\n",
    "fig.add_vline(x=0.5-(attack_biggerthan_defense-0.5), line_dash=\"dash\", line_color=\"red\",\n",
    "              annotation_text=f\"Proportion <= 100: {0.5-(attack_biggerthan_defense-0.5):.2f}\",\n",
    "              annotation_position=\"top right\")\n",
    "fig.show()  # USE `fig.show(renderer=\"png\")` FOR ALL GitHub and MarkUs SUBMISSIONS\n",
    "\n",
    "print(\"p-value\",\n",
    "      (abs(simulated_proportions-0.5) >= abs(attack_biggerthan_defense-0.5)).sum()/n_bootstraps)"
   ]
  },
  {
   "cell_type": "code",
   "execution_count": null,
   "id": "caa3de9e",
   "metadata": {},
   "outputs": [],
   "source": [
    "#https://stackoverflow.com/questions/52771328/plotly-chart-not-showing-in-jupyter-notebook\n",
    "import plotly.offline as pyo\n",
    "# Set notebook mode to work in offline\n",
    "pyo.init_notebook_mode()"
   ]
  },
  {
   "cell_type": "markdown",
   "id": "46ddd25a",
   "metadata": {},
   "source": [
    "#### 1. Continuous?\n",
    "\n",
    "B. *Just One Sample.* How will you test this? There are two ways you might be able to think to do this. \n",
    "    \n",
    "$H_0: \\mu_{\\textrm{attack}}=100$   \n",
    "Are there any other ideas? $$ $$\n",
    "<!-- $$H_0: p_{\\textrm{attack}\\geq100}=0.5$$ -->\n"
   ]
  },
  {
   "cell_type": "code",
   "execution_count": null,
   "id": "0f3b32a2",
   "metadata": {},
   "outputs": [],
   "source": [
    "for i in range(n_bootstraps):\n",
    "    bootstrap_means[i] = pokeaman[\"Attack\"].sample(n=sample_size, replace=True).mean()\n",
    "\n",
    "np.quantile(bootstrap_means, [0.05, 0.95])"
   ]
  },
  {
   "cell_type": "code",
   "execution_count": null,
   "id": "13f81f1a",
   "metadata": {},
   "outputs": [],
   "source": [
    "bootstrap_proportions = bootstrap_means.copy()\n",
    "for i in range(n_bootstraps):\n",
    "    bootstrap_proportions[i] = (pokeaman[\"Attack\"].sample(n=sample_size, replace=True)>=100).mean()\n",
    "\n",
    "np.quantile(bootstrap_proportions, [0.05, 0.95])"
   ]
  },
  {
   "cell_type": "code",
   "execution_count": null,
   "id": "5ff7a205",
   "metadata": {},
   "outputs": [],
   "source": [
    "for i in range(n_bootstraps):\n",
    "    simulated_proportions[i] = (np.random.choice([0,1], p=[0.5,0.5], replace=True, size=sample_size)).mean()\n",
    "\n",
    "fig = px.histogram(pd.DataFrame({\"simulated_proportions\": simulated_proportions}), nbins=30,\n",
    "                                title=\"50/50 'Coin Flip' Sampling Distribution for Attack>=100\")\n",
    "\n",
    "cutoff=100#75\n",
    "attack_biggerthan_proportion = (pokeaman[\"Attack\"]>=cutoff).mean()\n",
    "fig.add_vline(x=attack_biggerthan_proportion, line_dash=\"dash\", line_color=\"red\",\n",
    "              annotation_text=f\"Proportion >= 100: {attack_100plus_proportion:.2f}\",\n",
    "              annotation_position=\"top right\")\n",
    "fig.add_vline(x=0.5-(attack_biggerthan_proportion-0.5), line_dash=\"dash\", line_color=\"red\",\n",
    "              annotation_text=f\"Proportion <= 100: {0.5-(attack_biggerthan_proportion-0.5):.2f}\",\n",
    "              annotation_position=\"top right\")\n",
    "fig.show()  # USE `fig.show(renderer=\"png\")` FOR ALL GitHub and MarkUs SUBMISSIONS\n",
    "\n",
    "print(\"p-value\",\n",
    "      (abs(simulated_proportions-0.5) >= abs(attack_biggerthan_proportion-0.5)).sum()/n_bootstraps)"
   ]
  },
  {
   "cell_type": "code",
   "execution_count": null,
   "id": "bf893d1d",
   "metadata": {},
   "outputs": [],
   "source": [
    "# lemme show you one (no, two) more way(s) you probably haven't thought of for doing this...\n",
    "\n",
    "from scipy import stats\n",
    "import plotly.graph_objects as go\n",
    "\n",
    "pokeaman[\"Attack (100 Average)\"] = pokeaman[\"Attack\"] - int(pokeaman[\"Attack\"].mean()) + 100\n",
    "\n",
    "fig = px.histogram(pokeaman.melt(value_vars=[\"Attack\", \"Attack (100 Average)\"], \n",
    "                                 var_name=\"Type\", value_name=\"Attack Value\"),\n",
    "                   x=\"Attack Value\", color=\"Type\", facet_col=\"Type\", nbins=30, \n",
    "                   title=\"Distribution of Pokémon Attack, and instead if the average Attack was 100\")\n",
    "\n",
    "x_values = np.linspace(pokeaman[\"Attack (100 Average)\"].min(), pokeaman[\"Attack (100 Average)\"].max(), 100)\n",
    "y_values = stats.norm(loc=100, scale=pokeaman[\"Attack\"].std()).pdf(x_values)\n",
    "\n",
    "# Overlay the normal distribution on the right panel\n",
    "fig.add_trace(go.Scatter(x=x_values, y=y_values*8000,  # Scale by bin width and sample size\n",
    "        mode=\"lines\", name=\"Normal Distribution<br>Approximation\"),\n",
    "    row=1, col=2)\n",
    "\n",
    "\n",
    "fig.show()  # USE `fig.show(renderer=\"png\")` FOR ALL GitHub and MarkUs SUBMISSIONS"
   ]
  },
  {
   "cell_type": "code",
   "execution_count": null,
   "id": "f93b5689",
   "metadata": {},
   "outputs": [],
   "source": [
    "import plotly.express as px\n",
    "\n",
    "simulated_means = simulated_proportions.copy()\n",
    "for i in range(n_bootstraps):\n",
    "    simulated_means[i] = pokeaman[\"Attack (100 Average)\"].sample(n=sample_size, replace=True).mean()\n",
    "    #simulated_means[i] = stats.norm(loc=100, scale=pokeaman[\"Attack (100 Average)\"].std()).rvs(size=sample_size).mean()\n",
    "    \n",
    "    \n",
    "fig = px.histogram(pd.DataFrame({\"simulated_means\": simulated_means}), nbins=30,\n",
    "                                title=\"Sampling Distribution Attack if Average Attack is 100\")\n",
    "\n",
    "fig.add_vline(x=pokeaman[\"Attack\"].mean(), line_dash=\"dash\", line_color=\"red\",\n",
    "              annotation_text=f\"Attack mean: {pokeaman['Attack'].mean():.2f}\",\n",
    "              annotation_position=\"top right\")\n",
    "fig.add_vline(x=100-(pokeaman[\"Attack\"].mean()-100), line_dash=\"dash\", line_color=\"red\",\n",
    "              annotation_text=f\"Attach mean: {100-(pokeaman['Attack'].mean()-100):.2f}\",\n",
    "              annotation_position=\"top right\")\n",
    "fig.show()  # USE `fig.show(renderer=\"png\")` FOR ALL GitHub and MarkUs SUBMISSIONS\n",
    "\n",
    "#print(\"p-value\",\n",
    "#      (abs(simulated_proportions-0.5) >= abs(attack_biggerthan_proportion-0.5)).sum()/n_bootstraps)"
   ]
  },
  {
   "cell_type": "markdown",
   "id": "f9d72209",
   "metadata": {},
   "source": [
    "#### 2. Binary??\n",
    "\n",
    "A. ONE sample?\n"
   ]
  },
  {
   "cell_type": "code",
   "execution_count": null,
   "id": "0ac700c9",
   "metadata": {},
   "outputs": [],
   "source": [
    "import plotly.express as px\n",
    "\n",
    "simulated_proportions = bootstrap_means.copy()\n",
    "for i in range(n_bootstraps):\n",
    "    simulated_proportions[i] = (np.random.choice([0,1], p=[0.99,0.01], replace=True, size=sample_size)).mean()\n",
    "\n",
    "fig = px.histogram(pd.DataFrame({\"simulated_proportions\": simulated_proportions}), nbins=30,\n",
    "                                title=\"50/50 'Coin Flip' Sampling Distribution for Attack>=100\")\n",
    "\n",
    "legendary_proportion = (pokeaman[\"Legendary\"]).mean()\n",
    "fig.add_vline(x=legendary_proportion, line_dash=\"dash\", line_color=\"red\",\n",
    "              annotation_text=f\"Proportion: {legendary_proportion:.2f}\",\n",
    "              annotation_position=\"top right\")\n",
    "fig.add_vline(x=0.01-(legendary_proportion-0.01), line_dash=\"dash\", line_color=\"red\",\n",
    "              annotation_text=f\"Proportion: {0.01-(legendary_proportion-0.01):.2f}\",\n",
    "              annotation_position=\"top right\")\n",
    "fig.show()  # USE `fig.show(renderer=\"png\")` FOR ALL GitHub and MarkUs SUBMISSIONS\n",
    "\n",
    "print(\"p-value\",\n",
    "      (abs(simulated_proportions-0.01) >= abs(legendary_proportion-0.01)).sum()/n_bootstraps)"
   ]
  },
  {
   "cell_type": "markdown",
   "id": "eaf431ed",
   "metadata": {},
   "source": [
    "#### 2. Binary??\n",
    "\n",
    "B. Paired sample? \n",
    "\n",
    "C. **UNPAIRED sample?** \n"
   ]
  },
  {
   "cell_type": "code",
   "execution_count": null,
   "id": "7a61e99c",
   "metadata": {},
   "outputs": [],
   "source": [
    "pokeaman.describe()"
   ]
  },
  {
   "cell_type": "code",
   "execution_count": null,
   "id": "60296348",
   "metadata": {},
   "outputs": [],
   "source": [
    "pokeaman"
   ]
  },
  {
   "cell_type": "code",
   "execution_count": null,
   "id": "6a296075",
   "metadata": {},
   "outputs": [],
   "source": [
    "pokeaman.fillna(\"None\", inplace=True)\n",
    "pokeaman"
   ]
  },
  {
   "cell_type": "markdown",
   "id": "33dc679b",
   "metadata": {},
   "source": [
    "#### 1. Continuous?\n",
    "\n",
    "C. **UNPAIRED sample?**\n"
   ]
  },
  {
   "cell_type": "code",
   "execution_count": null,
   "id": "2a3befd9",
   "metadata": {},
   "outputs": [],
   "source": [
    "fig = px.box(pokeaman, x=\"Legendary\", y=\"Attack\", \n",
    "    title=\"Distribution of Pokémon Attack Across Legendary: Are These Different??\",\n",
    "    labels={\"Attack\": \"Attack Stat\", \"Legendary\": \"Legendary Pokémon\"})\n",
    "fig.show()  # USE `fig.show(renderer=\"png\")` FOR ALL GitHub and MarkUs SUBMISSIONS\n",
    "\n",
    "print(pokeaman.groupby('Legendary')['Attack'].mean())\n",
    "print(pokeaman.groupby('Legendary')['Attack'].mean().diff())"
   ]
  },
  {
   "cell_type": "code",
   "execution_count": null,
   "id": "82ae99f4",
   "metadata": {},
   "outputs": [],
   "source": [
    "pokeaman['Shuffled Legendary Status'] = pokeaman['Legendary'].sample(n=sample_size, replace=True).values\n",
    "fig = px.box(pokeaman, x=\"Shuffled Legendary Status\", y=\"Attack\", \n",
    "    title=\"Distribution of Pokémon Attack Across Legendary: If Legendary is SHUFFLED??\",\n",
    "    labels={\"Attack\": \"Attack Stat\", \"Shuffled Legendary Status\": \"Legendary Pokémon\"})\n",
    "fig.show()  # USE `fig.show(renderer=\"png\")` FOR ALL GitHub and MarkUs SUBMISSIONS\n",
    "\n",
    "print(pokeaman.groupby('Shuffled Legendary Status')['Attack'].mean())\n",
    "print(pokeaman.groupby('Shuffled Legendary Status')['Attack'].mean().diff())"
   ]
  },
  {
   "cell_type": "code",
   "execution_count": null,
   "id": "b533784f",
   "metadata": {},
   "outputs": [],
   "source": [
    "label_permutation_mean_differences = bootstrap_means.copy()\n",
    "for i in range(n_bootstraps):\n",
    "    pokeaman['Shuffled Legendary Status'] = pokeaman['Legendary'].sample(n=sample_size, replace=True).values\n",
    "    label_permutation_mean_differences[i] = \\\n",
    "        pokeaman.groupby('Shuffled Legendary Status')['Attack'].mean().diff().values[1]"
   ]
  },
  {
   "cell_type": "markdown",
   "id": "8e0cd6c5",
   "metadata": {},
   "source": [
    "$\\huge \\text{What does it mean to shuffle? Does it mean this?}$\n",
    "\n",
    "$\\Huge H_0: \\text{Legendary label doesn't matter}$\n",
    "\n",
    "$\\Large \\text{Is so, what would it mean to provide evidence against this null hypothesis?}$\n"
   ]
  },
  {
   "cell_type": "code",
   "execution_count": null,
   "id": "19bfb635",
   "metadata": {},
   "outputs": [],
   "source": [
    "fig = px.histogram(pd.DataFrame({\"label_permutation_mean_differences\": label_permutation_mean_differences}), nbins=30,\n",
    "                                title=\"Mean Difference Sampling under Legendary labels SHUFFLED\")\n",
    "\n",
    "mean_differene_statistic = pokeaman.groupby('Legendary')['Attack'].mean().diff().values[1]\n",
    "\n",
    "fig.add_vline(x=mean_differene_statistic, line_dash=\"dash\", line_color=\"red\",\n",
    "              annotation_text=f\"Shuffled Statistic <= Observed Statistic: {mean_differene_statistic:.2f}\",\n",
    "              annotation_position=\"top left\")\n",
    "fig.add_vline(x=-mean_differene_statistic, line_dash=\"dash\", line_color=\"red\",\n",
    "              annotation_text=f\"Shuffled Statistic >= Observed Statistic: {-mean_differene_statistic:.2f}\",\n",
    "              annotation_position=\"top right\")\n",
    "fig.show()  # USE `fig.show(renderer=\"png\")` FOR ALL GitHub and MarkUs SUBMISSIONS\n",
    "\n",
    "print(\"p-value\",\n",
    "      (abs(simulated_proportions) >= abs(attack_biggerthan_proportion)).sum()/n_bootstraps)"
   ]
  },
  {
   "cell_type": "markdown",
   "id": "0a0544e8",
   "metadata": {},
   "source": [
    "$\\huge \\textrm{Let's call this the \"Double Bootstrap''}$\n",
    "\n",
    "$\\Huge \\textrm{What's This Doing? How's does this Work?}$\n"
   ]
  },
  {
   "cell_type": "code",
   "execution_count": null,
   "id": "6669cf3a",
   "metadata": {},
   "outputs": [],
   "source": [
    "within_group_bootstrapped_mean_differences = bootstrap_means.copy()\n",
    "for i in range(n_bootstraps):\n",
    "    double_bootstrap = \\\n",
    "        pokeaman.groupby(\"Legendary\")[[\"Legendary\",\"Attack\"]].sample(frac=1, replace=True)\n",
    "    within_group_bootstrapped_mean_differences[i] = \\\n",
    "        double_bootstrap.groupby('Legendary')[\"Attack\"].mean().diff().values[1]\n",
    "    \n",
    "np.quantile(within_group_bootstrapped_mean_differences, [0.05,0.95])    "
   ]
  },
  {
   "cell_type": "code",
   "execution_count": null,
   "id": "f4d5e390",
   "metadata": {},
   "outputs": [],
   "source": [
    "fg1 = px.scatter(pokeaman, x=\"Defense\", y=\"Attack\", title=\"Pokémon Attack vs. Defense\",\n",
    "                 labels={\"Attack\": \"Attack Stat\", \"Defense\": \"Defense Stat\"},\n",
    "                 hover_name=\"Name\", color=\"Legendary\")\n",
    "fg2 = px.density_contour(pokeaman, x=\"Defense\", y=\"Attack\",\n",
    "                         color=\"Legendary\",\n",
    "                         title=\"Kernel Density Estimate of Pokémon Attack by Legendary Status\")\n",
    "fig = go.Figure()\n",
    "for trace in fg2.data:\n",
    "    fig.add_trace(trace)    \n",
    "for trace in fg1.data:\n",
    "    fig.add_trace(trace)    \n",
    "    \n",
    "fig.show()  # USE `fig.show(renderer=\"png\")` FOR ALL GitHub and MarkUs SUBMISSIONS"
   ]
  },
  {
   "cell_type": "code",
   "execution_count": null,
   "id": "7e594240",
   "metadata": {},
   "outputs": [],
   "source": [
    "fig = px.scatter(pokeaman, x=\"Defense\", y=\"Attack\", title=\"Pokémon Attack vs. Defense\",\n",
    "                 labels={\"Attack\": \"Attack Stat\", \"Defense\": \"Defense Stat\"},\n",
    "                 hover_name=\"Name\", color=\"Type 1\")#\"Generation\")\n",
    "fig.show()  # USE `fig.show(renderer=\"png\")` FOR ALL GitHub and MarkUs SUBMISSIONS"
   ]
  },
  {
   "cell_type": "code",
   "execution_count": null,
   "id": "3e398671",
   "metadata": {},
   "outputs": [],
   "source": [
    "fig = px.scatter(pokeaman, x=\"Defense\", y=\"Attack\", title=\"Pokémon Attack vs. Defense\",\n",
    "                 labels={\"Attack\": \"Attack Stat\", \"Defense\": \"Defense Stat\"},\n",
    "                 hover_name=\"Name\", trendline='ols')\n",
    "fig.show()  # USE `fig.show(renderer=\"png\")` FOR ALL GitHub and MarkUs SUBMISSIONS"
   ]
  },
  {
   "cell_type": "markdown",
   "id": "f8bdd199",
   "metadata": {},
   "source": [
    "$\\huge \\textrm{How's that DIFFERENT than this??}$\n"
   ]
  },
  {
   "cell_type": "code",
   "execution_count": null,
   "id": "c4a0621b",
   "metadata": {},
   "outputs": [],
   "source": [
    "fig = px.box(pokeaman, x=\"Legendary\", y=\"Attack\", \n",
    "    title=\"Distribution of Pokémon Attack Across Legendary: Are These Different??\",\n",
    "    labels={\"Attack\": \"Attack Stat\", \"Legendary\": \"Legendary Pokémon\"})\n",
    "fig.show()  # USE `fig.show(renderer=\"png\")` FOR ALL GitHub and MarkUs SUBMISSIONS"
   ]
  },
  {
   "cell_type": "code",
   "execution_count": null,
   "id": "04458261",
   "metadata": {},
   "outputs": [],
   "source": [
    "fig = px.violin(pokeaman, x=\"Legendary\", y=\"Attack\", box=True, points=\"all\", \n",
    "    title=\"Distribution of Pokémon Attack Across Legendary Status (Violin Plot)\",\n",
    "    labels={\"Attack\": \"Attack Stat\", \"Legendary\": \"Legendary Pokémon\"})\n",
    "\n",
    "for trace in fig.data:\n",
    "    if trace.type == 'violin' and 'points' in trace:\n",
    "        trace.marker.opacity = 0.5  # Set alpha transparency for points\n",
    "\n",
    "fig.show()  # USE `fig.show(renderer=\"png\")` FOR ALL GitHub and MarkUs SUBMISSIONS"
   ]
  },
  {
   "cell_type": "code",
   "execution_count": null,
   "id": "d1a9eb92",
   "metadata": {},
   "outputs": [],
   "source": [
    "fig = px.strip(pokeaman, x=\"Legendary\", y=\"Attack\", color=\"Legendary\",\n",
    "               title=\"Swarm Plot of Pokémon Attack by Legendary Status\",\n",
    "               labels={\"Attack\": \"Attack Stat\", \"Legendary\": \"Legendary Pokémon\"},\n",
    "               stripmode=\"overlay\")  # Overlay points to increase density in the plot\n",
    "\n",
    "# Adjust jitter to spread points horizontally\n",
    "fig.update_traces(jitter=0.4, marker=dict(opacity=0.6, size=6))\n",
    "fig.show()  # USE `fig.show(renderer=\"png\")` FOR ALL GitHub and MarkUs SUBMISSIONS"
   ]
  },
  {
   "cell_type": "code",
   "execution_count": null,
   "id": "fe3ff709",
   "metadata": {},
   "outputs": [],
   "source": [
    "pokeaman[\"Legendary_int\"] = pokeaman[\"Legendary\"].astype(int)\n",
    "fig = px.scatter(pokeaman, x=\"Legendary_int\", y=\"Attack\", trendline='ols', \n",
    "                 title=\"Distribution of Pokémon Attack Across Legendary: Are These Different??\",\n",
    "                 labels={\"Attack\": \"Attack Stat\", \"Legendary\": \"Legendary Pokémon\"})\n",
    "fig.update_xaxes(range=[-1, 2])\n",
    "fig.show()  # USE `fig.show(renderer=\"png\")` FOR ALL GitHub and MarkUs SUBMISSIONS"
   ]
  },
  {
   "cell_type": "markdown",
   "id": "448a2b7d",
   "metadata": {},
   "source": [
    "$\\huge \\textrm{How's that DIFFERENT than this??}$"
   ]
  },
  {
   "cell_type": "code",
   "execution_count": null,
   "id": "dc19dd90",
   "metadata": {},
   "outputs": [],
   "source": [
    "fig = px.scatter(pokeaman, x=\"Defense\", y=\"Attack\", title=\"Pokémon Attack vs. Defense\",\n",
    "                 labels={\"Attack\": \"Attack Stat\", \"Defense\": \"Defense Stat\"},\n",
    "                 hover_name=\"Name\", trendline='ols')\n",
    "fig.show()  # USE `fig.show(renderer=\"png\")` FOR ALL GitHub and MarkUs SUBMISSIONS"
   ]
  },
  {
   "cell_type": "code",
   "execution_count": null,
   "id": "a7ca364d",
   "metadata": {},
   "outputs": [],
   "source": [
    "import statsmodels.formula.api as smf\n",
    "\n",
    "# Model (a): Predict Attack based on Defense\n",
    "model_a_fit = smf.ols(formula=\"Attack ~ Defense\", data=pokeaman).fit()\n",
    "print(\"Model (a): Attack ~ Defense\")\n",
    "print(\"Model (a) R**2:\", model_a_fit.rsquared)\n",
    "model_a_fit.summary().tables[1]"
   ]
  },
  {
   "cell_type": "markdown",
   "id": "6a4a385c",
   "metadata": {},
   "source": [
    "$\\huge \\widehat{\\textrm{Attack}} = 45.2842 + 0.4566\\times \\textrm{Defense}$\n",
    "\n",
    "$ $\n",
    "\n",
    "$\\Huge \\textrm{How's that DIFFERENT than this??}$\n",
    "\n",
    "$ $\n",
    "\n",
    "$\\huge \\widehat{\\textrm{Attack}} = 75.6694 + 41.0075\\times 1_{\\textrm{TRUE}}(\\textrm{Legendary})$\n",
    "\n",
    "$\\Large \\textrm{And what are the predictions and how do you make them from this model??}$"
   ]
  },
  {
   "cell_type": "code",
   "execution_count": null,
   "id": "52ceaf8e",
   "metadata": {},
   "outputs": [],
   "source": [
    "# Model (b): Predict Attack based on Legendary\n",
    "# Ensure Legendary is treated as a categorical variable if it’s binary or categorical\n",
    "model_b_fit = smf.ols(formula=\"Attack ~ Legendary\", data=pokeaman).fit()\n",
    "\n",
    "# Print summary of both models\n",
    "print(\"\\nModel (b): Attack ~ Legendary\")\n",
    "print(\"Model (b) R**2:\", model_b_fit.rsquared)\n",
    "model_b_fit.summary().tables[1]"
   ]
  },
  {
   "cell_type": "code",
   "execution_count": null,
   "id": "502495f6",
   "metadata": {},
   "outputs": [],
   "source": [
    "pokeaman[\"Legendary_int\"] = pokeaman[\"Legendary\"].astype(int)\n",
    "fig = px.scatter(pokeaman, x=\"Legendary_int\", y=\"Attack\", trendline='ols', \n",
    "                 title=\"Distribution of Pokémon Attack Across Legendary: Are These Different??\",\n",
    "                 labels={\"Attack\": \"Attack Stat\", \"Legendary\": \"Legendary Pokémon\"})\n",
    "fig.update_xaxes(range=[-1, 2])\n",
    "fig.show()  # USE `fig.show(renderer=\"png\")` FOR ALL GitHub and MarkUs SUBMISSIONS"
   ]
  },
  {
   "cell_type": "code",
   "execution_count": null,
   "id": "7673c99c",
   "metadata": {},
   "outputs": [],
   "source": [
    "fig = px.box(pokeaman, x=\"Legendary\", y=\"Attack\", \n",
    "    title=\"Distribution of Pokémon Attack Across Legendary: Are These Different??\",\n",
    "    labels={\"Attack\": \"Attack Stat\", \"Legendary\": \"Legendary Pokémon\"})\n",
    "fig.show()  # USE `fig.show(renderer=\"png\")` FOR ALL GitHub and MarkUs SUBMISSIONS"
   ]
  },
  {
   "cell_type": "code",
   "execution_count": null,
   "id": "0c7db393",
   "metadata": {},
   "outputs": [],
   "source": [
    "model_b_fit.summary().tables[1]"
   ]
  },
  {
   "cell_type": "markdown",
   "id": "15c90fb5",
   "metadata": {},
   "source": [
    "$\\Huge \\textrm{Simple Linear Regression}$\n",
    "\n",
    "$\\huge \\textrm{How's that DIFFERENT than this??}$\n"
   ]
  },
  {
   "cell_type": "code",
   "execution_count": null,
   "id": "6f9c0763",
   "metadata": {},
   "outputs": [],
   "source": [
    "label_permutation_mean_differences = bootstrap_means.copy()\n",
    "for i in range(n_bootstraps):\n",
    "    pokeaman['Shuffled Legendary Status'] = pokeaman['Legendary'].sample(n=sample_size, replace=True).values\n",
    "    label_permutation_mean_differences[i] = \\\n",
    "        pokeaman.groupby('Shuffled Legendary Status')['Attack'].mean().diff().values[1]\n",
    "    \n",
    "fig = px.histogram(pd.DataFrame({\"label_permutation_mean_differences\": label_permutation_mean_differences}), nbins=30,\n",
    "                                title=\"Mean Difference Sampling under Legendary labels SHUFFLED\")\n",
    "\n",
    "mean_differene_statistic = pokeaman.groupby('Legendary')['Attack'].mean().diff().values[1]\n",
    "\n",
    "fig.add_vline(x=mean_differene_statistic, line_dash=\"dash\", line_color=\"red\",\n",
    "              annotation_text=f\"Shuffled Statistic <= Observed Statistic: {mean_differene_statistic:.2f}\",\n",
    "              annotation_position=\"top left\")\n",
    "fig.add_vline(x=-mean_differene_statistic, line_dash=\"dash\", line_color=\"red\",\n",
    "              annotation_text=f\"Shuffled Statistic >= Observed Statistic: {-mean_differene_statistic:.2f}\",\n",
    "              annotation_position=\"top right\")\n",
    "fig.show()  # USE `fig.show(renderer=\"png\")` FOR ALL GitHub and MarkUs SUBMISSIONS\n",
    "\n",
    "print(\"p-value\",\n",
    "      (abs(simulated_proportions) >= abs(attack_biggerthan_proportion)).sum()/n_bootstraps)"
   ]
  },
  {
   "cell_type": "markdown",
   "id": "fa05dc1e",
   "metadata": {},
   "source": [
    "$\\Huge \\textrm{Permutation Testing}$\n",
    "\n",
    "$\\huge \\textrm{How's that DIFFERENT than this??}$\n"
   ]
  },
  {
   "cell_type": "code",
   "execution_count": null,
   "id": "66bab6ef",
   "metadata": {},
   "outputs": [],
   "source": [
    "within_group_bootstrapped_mean_differences = bootstrap_means.copy()\n",
    "for i in range(n_bootstraps):\n",
    "    double_bootstrap = \\\n",
    "        pokeaman.groupby(\"Legendary\")[[\"Legendary\",\"Attack\"]].sample(frac=1, replace=True)\n",
    "    within_group_bootstrapped_mean_differences[i] = \\\n",
    "        double_bootstrap.groupby('Legendary')[\"Attack\"].mean().diff().values[1]\n",
    "    \n",
    "np.quantile(within_group_bootstrapped_mean_differences, [0.05,0.95])    "
   ]
  },
  {
   "cell_type": "markdown",
   "id": "303e1398",
   "metadata": {},
   "source": [
    "$\\Huge \\textrm{\"Double Bootstrapping\"}$\n"
   ]
  },
  {
   "cell_type": "markdown",
   "id": "31c6fcc3",
   "metadata": {},
   "source": [
    "#### 2. Binary??\n",
    "\n",
    "C. **UNPAIRED sample?** \n",
    "\n",
    "#### 3. Categorical???"
   ]
  },
  {
   "cell_type": "code",
   "execution_count": null,
   "id": "9afa38e9",
   "metadata": {},
   "outputs": [],
   "source": [
    "fig = px.box(pokeaman, x=\"Type 1\", y=\"Attack\", \n",
    "    title=\"Distribution of Pokémon Attack Across Type 1\",\n",
    "    labels={\"Attack\": \"Attack Stat\", \"Type 1\": \"Pokémon Type 1\"})\n",
    "fig.show()  # USE `fig.show(renderer=\"png\")` FOR ALL GitHub and MarkUs SUBMISSIONS"
   ]
  },
  {
   "cell_type": "code",
   "execution_count": null,
   "id": "3bbf0b65",
   "metadata": {},
   "outputs": [],
   "source": [
    "fig = px.box(pokeaman, x=\"Type 2\", y=\"Attack\", \n",
    "    title=\"Distribution of Pokémon Attack Across Type 2\",\n",
    "    labels={\"Attack\": \"Attack Stat\", \"Type 2\": \"Pokémon Type 2\"})\n",
    "fig.show()  # USE `fig.show(renderer=\"png\")` FOR ALL GitHub and MarkUs SUBMISSIONS"
   ]
  },
  {
   "cell_type": "markdown",
   "id": "90cd3ddc",
   "metadata": {},
   "source": [
    "# The Homework this time around is VERY DIFFERENT\n",
    "### It's VERY LONG. It's VERY, VERY DEMANDING. You will do/understand COMPLICATED SIMULATIONS\n",
    "### You don't turn it in until AFTER you get back from READING WEEK (Thursday before TUT as usual)\n",
    "### Your Project Proposals ARE DUE ON MONDAY IMMEDIATELY UPON RETURN FROM READING WEEK\n",
    "\n",
    "- The HW is longer since there's substantially more time to do it\n",
    "- However, I still need to finalize the HW and make the rubric, which \n",
    "    - I expect to do tomorrow, Tuesday Oct 22.\n",
    "    - My apologies for not being quite ready this time around\n",
    "    - And similarly, the textbook for linear regression has not yet been finalized \n",
    "        - but I will do so ASAP, ideally by tomorrow-tomorrow, Wednesday Oct 22.\n",
    "- A draft of the \"Course Project Proposals\" assignment is available in the CP folder on the course github\n",
    "    - This is due on Monday, Nov 04 the day you return from your reading week\n",
    "    - I will alert the class with an announcement when the final I need to \n"
   ]
  }
 ],
 "metadata": {
  "kernelspec": {
   "display_name": "Python 3 (ipykernel)",
   "language": "python",
   "name": "python3"
  },
  "language_info": {
   "codemirror_mode": {
    "name": "ipython",
    "version": 3
   },
   "file_extension": ".py",
   "mimetype": "text/x-python",
   "name": "python",
   "nbconvert_exporter": "python",
   "pygments_lexer": "ipython3",
   "version": "3.11.4"
  }
 },
 "nbformat": 4,
 "nbformat_minor": 5
}
