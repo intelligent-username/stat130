{
 "cells": [
  {
   "cell_type": "markdown",
   "id": "e9f4ee7e",
   "metadata": {},
   "source": [
    "# STA130 TUT 06 (Oct11)<br><br>🤔❓ <u>\"Single Sample\" Hypothesis Testing</u><br><br>Yes, the same one, with exactly the same title as last time</sub>"
   ]
  },
  {
   "cell_type": "markdown",
   "id": "d7ff3344",
   "metadata": {},
   "source": [
    "## ♻️ 📚 ~~Review  / Questions~~ [5 minutes]\n",
    "\n",
    "## <u>There is NO formal review this time:</u><br><sub>Just Some Reminder Announcements</sub>\n",
    "\n",
    "1. Prof. Scott did a BIG review as part of his Monday Lecture\n",
    "2. TUT this week covers the material he didn't get to on Monday\n",
    "3. The **lecture notebook** links you to Review that YOU should do regarding **Week 03 Homework Question 04** and how you MUST approach working with ChatBots\n",
    "\n",
    "    1. [They don't reason](https://chatgpt.com/share/66fd24f3-3a00-8007-a67b-e389bb4bb940)\n",
    "    2. [They can argue against reason](https://chatgpt.com/share/66fd2ea8-0dd8-8007-bb44-41e63de657be)\n",
    "    3. You HAVE to WORK with them to use them as a tool; and, as we move forward in the course, [*Please Consider Using* the STA130 Custom NotebookLM ChatBot](https://github.com/pointOfive/stat130chat130/wiki) which will be much more \"STA130 aware\" with its answers and thinking (even though it, like all current \"vanilla\" ChatBots still cannot offer human level reasoning)\n",
    "        "
   ]
  },
  {
   "cell_type": "code",
   "execution_count": null,
   "id": "0b4bdb2f",
   "metadata": {},
   "outputs": [],
   "source": [
    "YouTubeVideo('IM4wwDFUmXE', width=800, height=500)"
   ]
  },
  {
   "cell_type": "markdown",
   "id": "78ead92c",
   "metadata": {},
   "source": [
    "### It takes one minute to make the STA130 Custom NotebookLM ChatBot\n",
    "\n",
    "For more discussion about this please see https://piazza.com/class/m0584bs9t4thi/post/87_f1"
   ]
  },
  {
   "cell_type": "code",
<<<<<<< HEAD
   "execution_count": 1,
   "id": "641e528d",
   "metadata": {},
   "outputs": [
    {
     "data": {
      "image/jpeg": "/9j/4AAQSkZJRgABAQAAAQABAAD/2wCEABALDBoYFhsaGRodHRwfIyglIiIhIi4lJSgmLioxMy0nLS01SFBCNThLPS0tRWFFS1NWW11bMkFlbWRYbFBZW1cBERISGRYYLRsaL1g3Nz1XV1dXV1dXV1dXV1dXV1dXV1dXV1dXV1dXV1dXV1dXV1dXV1dXV1dXV1ddV1dXV1dXV//AABEIAWgB4AMBIgACEQEDEQH/xAAbAAEAAgMBAQAAAAAAAAAAAAAAAQQCAwYFB//EAEYQAAEDAgQCBgcGBAUCBgMAAAEAAhEDIQQSMWFBUQUTcYGR8BYiMlNUkqEUF1KxwdEGFSNCYpOi4fEzckNEY4LS4qOywv/EABgBAQEBAQEAAAAAAAAAAAAAAAABAgME/8QAIREBAAICAgIDAQEAAAAAAAAAAAERAhITUQMhMUFhIjL/2gAMAwEAAhEDEQA/APn6IiAiIgIiICIiAiIgIiICIiAiIgIiICIiAiIgIiICIiAiIgIiICIiAiIgIiICIiAiIgIiICIiAiIgIiICIiAiIgIiICIiAiIgIiICL0uiejTisQyi1zGF03dpYSe+y1OwcYg0SQCKnVl3Cc2WexWmtVJF7Z/h99/6tCeWf+2SJn9FQfhgKvVy0+sG5uFzr2JRqpovQxOA6tgeHMc0mLG/E6dyywnRxqszBzG3IvsAf1/NKNXmorTqAFTIS2zoLv7ddexWqnRLmgnPSIAJPrCfV1A5pRq8tFcw2G6xxEtbaZdYagR9VaPQ7/x0vm56DTVKNXkorbMPNUU/VBLss8NYnsVw9DOv69Hb1tfMJRq8hF638odrnoxePW1IGmiqPw+Woabssh2UnUa69iUaqiL2D0Mc0CpRPP1vM+d1XxWANIAuNMyYhrpPeOCUU89F6eH6N6xuYPpjiQTBAkjTu+q0YjDGm9zHZZbrFxpKUaqaLflHIKco5BKNVdFYyjkFOUcglFKyKzlHIJlHIJSUrIrOUcgmUcglFKyKzlHIJlHIJRSsitZByCZByHglFKqK1kHIeCnIOQ8EopURW8g5DwU5ByHglFKaK7kHIeCZByHglFKSK91beQ8FPVt/CPBKKUEXodW38I8FIpt/CPBKWnnIvS6pv4R4Keqb+EeCUavMReoKTfwt8Asupb+FvgEo1eSi6N3RLRhm4iWQTGXLuRrxNpjkQVqw+CpvDierbHMC/Z4LWOE5TUJNRFy8FF0fR3RrKzy05WNALnOyg5WjV0cYtpzU4Xo1lWt1Y6pusOcAG2496zS6ubRdDVwTGkjKwwSJyiDHEcwshgWZM+VnZlHOPFKNXOIunw3RzKk+qwRH9o4qMNgqT3hpaxs8S0HuSjVzKLp6uCpNeWhtNwBicohZVsBTYR6jCCJByjmR+iUauWRdji+h2Ug0uYz1gCPUAsRKhnRVItBHUX4ECQlGrj0XYjoulExR48BwKxHR9GR6lP2c3sjwSjVyCLtP5VRtajfYDhPntCxq9HUWkDJSd2NBSjV6NP8AgCi4kfaKlv8AC1bPu7ofEVflaumwJ9apf8P6rKnh6gq1HGqS1whrY9k81JmSPf25f7u6HxFX5Wp93dH4ir8rV1FTD1CxrRVIIMk8xyViq2WuA1II+imOUz8xTNzcw4/7u6PxFX5Wp93dH4ir8rV1eHolsWaLRYzN+NgtzRA1ndW1tx33eUfiKvytT7u6PxFX5Wrr2NILpMyZH7LKLylluO+7yj8RV+Vqfd3R+Iq/K1dkiWW437vKPxFX5Wp93dH4ir8rV2SIW437vKPxFX5Wp93lH4ir8rV2SIW437vKPxFX5Wqfu8o/EVflauxRC5cd93lD4ir8rVH3eUfiavytXZKphsK5lWq8vzB7swuZAgDL2CD4oW5j7vqPxNX5Wp931H4mr8rV2KSg477vqPxNX5Wp931H4mr8rV2MpKDj/u+o/E1flan3fUfiavytXYSkoW4/7vqPxNX5Wp931H4mr8rV2EpKDj/u+o/E1flan3fUfiavytXYSkoOP+7+j8TV+Vqfd/R+Jq/K1dg42Ma9irmnVho6wCB6xDdSg5f7v6PxNX5WqfQCj8TV+Vq6dtKqCP6sgAj2NdysmMqB0mpI5ZY+qDlfQCj8TV+Vqn0Ao/E1flauvlJQtyHoDR+Jq/K1PQGj8TV+Vq6+UlWy3I+gVH4mr8rU9AqXxNX5WrrpSUstyPoHS+IqfK1T6B0viKnytXWykqWW5P0EpfEVPlanoLS+IqfK1dZKh9wQJCWW5UfwLS+IqfK1T6DUviKnytXUsFlklly5T0Gpe/f8rVPoPS9+/wCULqkVstyw/gmn8RU+UKfQmn79/wAoXUIpZcuXH8FU/fv+ULL0Mp+/f8oXTIlly5v0Npe+qeDVPofS99U8Gro0Sy5c6P4Qpe9qeDVPojS97U8G/suhRC5c8P4Roj/xang39lPonS97U8AugVfDUXNJmO7jufPFC5eR6KUve1PAKfRWl72p4Beu+iTUDuUQZ0FpEdx8VsqsLhAcW3BkRz3QuXiD+FqXvKngFPovT94/wC9qozM0tnURJuteGolkiABAsCTfib9yFyo4WuQKrgDYAxpOtvorOHxPWMDhmAPOJTBUxmfpw071bLG+SsTjltExPrpLVMRiTTbNzJiB/wAI/EkGCH9zZCthjfJQsaLm3etVNrcU0NqEiZPgpzHmfotwptP/ACnVDkqltJeeZ+i0sxcxZ4nm1XOrCdWELac55lMx5nuhburCdWELUqeMLmB+V4kkRAmy2U6+b8Q7RCs9WE6sIW05jzP0WrEYksy6ukxb/hW+rHJOrCkxNeliYv2quxBBIh50uAPP/CzbUJEyfBb+rCdWFUtpzHmfotLcWS54h3qceewVzqhyU9WFJiViYVG4kk6PG5FvP7rYXHmfot3VjknVDkqltD6hAJnxsPFaziSADcz+H1grfVjknVhKLV2VS4cRsRCyzHmfot3VhOrHJBUfiSKjWXM8eA+ifarx6+sezZXOrHJR1Y5KRErMx9NIeeZQOPM/RburHJOqHJVLVG4kkEw8Q7LBA8RssqdfNxIPIgSrPVjkp6sIW0ZjzP0WFauWNLoc7ZoBKs9UOSdWOSCrUxJaYh53DZCzZUJEye8Qt/VjknVjkg05jzP0WHXnMWw6wmYEHYb3VnqhyQ02+SgqNxJJiH9pbZbcx5n6Ldkb5KjI3yUGl1QgEyTAmBC1/aTlBh9+ECR2q1kb5KZG+Sgr065cP7hsRCzzHmfot2RvkqMjfJQV31iC0esc3EAQO1YnFEEiKmsez9VayN8lMjfJQtqDzzKZjzP0W7I3yVGRvkoWqjEmHGHjKY9nXccwsqeIzfiHa2FYyN8lTkb5KFtOY8z9FhWrFjS71nRFmgE68lYyN8lMjfJQtVqYktMQ82mQ2VsbUJEye8LeGN8lOrb5KFtOY8z9Fh15z5Id7ObNAy6xE81ZyN8lMjfJQtUbiiYs8doC25zzK3dW3yUyN8lC2GIq5Kb3wXZWl0N1MCYG6rYbHFzSXshwcWnqyXtNgZaYBIvGmoPKVegJG6Fqpxn/AKdT5VZBlDA1P1Uwgo9GvJdUlsezwjmrGIe5rRl1nkT+QK0dGuJNSRGn92bmrsKoxpEkNJ1i/Bc/0pQp4rH/AGbFE9QKLTTbmLWuqOeeIIl0NgDtXRwtVTDse5rnD1mH1TJBG1uFhbSyDwOh2UsP0g/CYV00BQzPZmLwyqHxqSYJBuNgvZxOLex+VtIv9UGQTxJ2PLtvpElbcPhKdIvdTYGuqOzPI1c7mStyCh9rr2/o5d7ui8eyNpMTyUNxdcAl1DNaRFuE3ns+oC9BEGqnUccktylzczhy0t9foqDukMReMKToBc6y4Em2lmnvXqIg8ypi8QDamIJ4McYblBza3gkiNTFkGOxFpw5s31gCZn1dLRxNpNhzEL00QeYMZiS0u6nJYwC1zjMMI0jm4d2ys4GtUeHdazJBsII5234XFr7K0iAiIgIiICIiAiIgIiICIiAiIgIiICIiAiIgLXWJDSW628Jv9JWxIQV21Hmm8gHMJjM2CeUjfzyWt2LeCQKRdEiQdY4i36+KtwkboK/XOzRobeqY4gW/P6KG4mplk0jMgRfjqbjzKsxuUhBUbi6h/wDAcOck/st9Co505m5b27JMfl9VshIQSiiEhBKKISEEoohIQSiiEhA4pySFMINbHPzuBaA0RBnVZBxzEZTAAOaRB2jVTG6RugwqOIaS0SQDA3WrD1CS4Zs4jW1jOkgDheOCsQkINOIc4AZTBLwPZzWPnVTh3lzGk63BsW6GJg6aLbCQg5TpVj6+Jp5SR1cyZ0ccpzDshdUx4cJGhEqtW6NpPJJaQSZOUxJiJMKzTYGgNaIAsApEUszal0a2HVBM+zwA58lcqPILREybngLKj0Yb1P8A2/qrpqH8Dj8v7qTlEfMlW0V8W5rGODLuMEHNaxPAE3iBbjzsqr+miIIw9Y6T6t7z+XHkvR60/gf/AKf3TrT+B/8Ap/dTfHs1lmDIB0VZmIcXxI9ojLx1O8zYE2iCrDXz/aR2x+hTeLpvj2Uq1cflqFhpvMEQQJBmP383jBnScuAFKpBIExa5iecf7q9m2KZu1XfHsppxNVzcuVsyQNYsdTodFuabKJ2Uzspvj2Uq1cUW1CJblBpg65vXJH7LKviXMeB1ZLIBc4cJJGnHQeKsZtimbYq749lKI6RdkLzRfqRAF4tBM/8Ad9CoPSov/SqSDERsTflFp7Qr+bYpm2Km+PZSkzpEl0dU8DMGyRxJ1jlppz2W7F4g0wCGl0kCwnU3PYFvzbFROyb49lJaZCp4rFPYXQJAiBlN5/xTrMiInTmrk7Jm2Ku+PZSti8U6mQAzNI4TOvDs1WtvSQMf0qgnbjf/AIlXc2xTN2qb49lKA6U/9GppOnn/AH+q3UMZnflNN7bTJFuFvqrObtTNsU3x7KY1n5Wkjhz0G52Gq0YfEE5s2jRNgJ42sSOAPeFZzbFQLaCE3x7KUR0i6BNF4dMOF7a6WuOSyb0jOX+lUgmJjfXsuFdzbFM2xTfHspK8/CYqo4szFkOMWN/YLlfzbLEAC4aAewK749lKrsc9pdNF2UEwRxh0aeB/4WsdKEtcRReSASJsDAmBrf8ARehm2KTspvj2U14etnaTlLYJEHbitWLruYRBaAY1aTq6OBGmqs5timbtTfHspTr4x7KbHdWXk6hoNouTF/7Q7vgcVlhsY57yx1NzSCbxYxyPngrWbYpm2Kb49lMK7y1pI1HO4Am57hdaqNdxY91nZdIsCYmOPiFYzbFJ2TfHsp57OlCdaNSRyFjYm3NZP6Ti/VuyAuBds0TmA4j81ezdqTsm+PZQ0yASI25bKsMX6+T1ZzRdwHHlMzGyszsk7Jvj2UrYjGGm8t6tzhlzSPy/JaG9KS4NFJ8yZtBDYmY8PqvQzbFJ2TfHspoweJ61slhYREg7gFRj8Q6mwFoFzEnhY3+isZtihOyu+PZSq7FuFDrMkmdL6TErSelHaig+Ji+v93DuA7/H0M2xTN2qb49lKI6TGcMNN4MwdrgT2X/NX1E7JOyb49lJRROyTsm+PZSUUTsk7Jvj2UlFE7JOyb49lJRROyTsm+PZSUUTsk7Jvj2UlFE7JOyb49lKmDYA58bfqrHWtzZJ9aJjZacL7T+79Vg9tMVCTVAdmmCWgiwtz0HgvN5P9NQsvqNbGYgSYEqG12O0c0zbXje30Pgq9WrQqRNRtuTo4ix7bfotX2XDD+5oLDrmEtLSePaVmhebUabgg3jXiOCdY38Q8VS+zYdsMzRMOHrai4F+M5neK1swuDvD2cf7xy4dxGyVA9IvA1IHehcOY8VRrYXDS5z3CQADL9IAH7eSsXU8OQCKlINAtJ4QGwb7AKxET8kvQLgNSPFC8cwvOFKgWZesp5Zm542vd1+Cx6mgZPW0411gfnpf6rWuPbNz09LrG2uL6X70bUaRIcCLXBtfRU2UKTKvt0w/NOWYMu4RO5UDCYaMmZvAxnGgkju9Y+PYszEfSxf2umq23rC9hfzyKCq2AcwvYX1MTA7l55wWFsczQMsD+pbL7Nvy/wB1m3DYaCwObeSYeJFiCZ1/uPZKlQq6ajQCSRAEkzoOada2xzC+/d+oVBtHCMDocyAIPrSG5jl7rgDaFH2fC5nDOJeZPr6kEW7b6bpQ9HOOY8eeix65mbLmbm1iRNv+VSNHDdWW5wWueCSHzLiLTHMKPsuFLTLmkXBJeLTz5H1folC+arRbMJO/nmENVsgZmydL9n7jxXn/AGfCWZmZ+GA8c5jtn8kdhsNdxdMwCQ6eE8NNJ7uSVA9HOOY8UzjmPFUOow4p8Qxxgn1hcOOvK5Oqx6rDRTBJhhloOYCS4CI2JAjhKUPQdUaNSBpx56LEYhhsHt48eWqqVMDhy6HH1iGiM94AgCFjTw2Gc0ODwRd85x3uPYlQL5qNGrhrGvHSPqPFTnHMeK88YfCtLXZmjKZH9S0z+5UfZ8JmzZ2hx45xue4apQ9B1VoiXATzKnMNJE9q840cK0H1m6tBJdIBaPVB7ADbZZfZ8M4NYXtccoYPXGYwT3zJKUL+ccx4oHAmJE9q877FhQT67QYg+uBzHdc+K2U6OHYRUD2gi2bOOZ1PilQLbazTo4HsPnmss45jx5KjVw+Gd6xc0Zrznjib+LiO/sUPp4ZwaS9oDPZ9eB233KULnXsgnO2AYJmwKzzDmPFUx0fQcDAkEmYdN5E/l9TzWbujqZaWuBIJcTf8RmPoPBPQ3ursBALgCbi/BBXYRIc0iCZngNStTsDTJEg24TbUn/8Ao+K1noujAGU9oME9p4p6FoVG2uL6X1Udc2CcwgamdLStDujaRABaSACNeZzH6rF/RlJ0kh0mJvym/wBT4p6FsPHMeKBw5hVW9GUm5soILg4G/wCL81NLo6mxwc0EEb7z+d09De6uwDMXNA5k7T+SyFQHiPFVm9H0g3KG2mde3/5FGdHUmzDbGLTydmH1T0LOccx4qBUb+IeKpjoiiIABAAcIB/EAD9BCy/lVGZycCNeBJJ/Mp6Fp1VoElzQOZI5T+SOqtBguAPInt/Y+Cq/yqjDhl9rW+8rdXwjKkZgSQCAeMEgn/wDUJ6G6RzCwZWa67XA3jXjyWg9G0ogtJGbNqdYAjsgDwT+W0smTL6szEnW37J6Fg1WgSXDhx56KWvB0IPYZ4x+YKqM6KotMhpBkHXiFupYRjHl7QZM8fxEE/kPBPQ3oiKKhJTiquJfXFQ9W0FuURMRmzGZ46Qu2HjjKLZmVqUleccRi5MUREiASNJM3nlA+q2VKmJIZlaA4gZtMoOYcddJOh7+G+GO0tdlFqwjqpzda0D1jlg/28J3W0Ln5PHGMWsSlFqrteW+oQHcz58/RbAuTSvhfaf3fqj8DScXOLLu9oyROn7BTg2y5/d+qtdXuV3zwynK4ZtR/llCAMlhpc27LrZUwNJzszmS6ZBkyDty1Vrq9ynV7lZ481tUfgKJABpiBFrjTSefep+xU5BykkGbucbjQm91a6vcp1e5TjzLVHYCkXFxbc6nMb/VDgKWbNkEwBMnQCArfV7lOr3KceZam7o6iQQWWdqMzr9t1JwFKScmu57Oat9XuU6vcpx5lq32Snmz5fWteTwIOnaAtf8upXlpMzxI1JJ07Y7LaK71e5Tq9ynHmWquwVMlpLbsADSCRAGkQVi7o+kRBadI9p2m17cuyyudXuU6vcpx5lq32OnBGWJyzBI9n2fCFrb0bRAgUwBMwCQP+Nld6vcp1e5TjzS1T7DSgjIIdrrexH5E+Kg9HUSILAe88wf0CudXuU6vcpx5ram7o+kdWfUxEAQeYsPBZNwVMNyBvqzMSdYj8la6vcp1e5TjzLVjhWEAEEgGQJMaR38deZWP2ClxbPa4niTNzrc33Vvq9ynV7lOPMtXGGYHh8S4aEk8ontiPBa2dH0mkkMuW5SZJOXkrnV7lOr3KceRan/LqN/U1mbnib8VL8BSdMtkE5iJMTzifNlb6vcp1e5TjzLVW4OmBAbaZ1Ot9OWp8UZgqbTIbeQdTw08LK11e5Tq9ynHkWqNwFIEkNIJMmHOF+eqgdH0h/ZwjU9nPlbsVzq9ynV7lOPMtUfgaZLSWmW+ycxBF5tdPsFKZyXmdTr5J8Vb6vcp1e5TjzLaaNBrJDRAJnUm/etiy6vcp1e5U4si2KLLq9ynV7lOLItiiy6vcp1e5TiyLYosur3KdXuU4si2KLLq9ynV7lOLItiiy6vcp1e5TiyLYosur3KdXuU4si2KLLq9ynV7lOLItiiy6vcp1e5TiyLYosur3KdXuU4si2CQs+r3KdXuVYwzj4T0whIWfV7lOr3KumZ6YQiz6vcp1e5Unx5z8npiiy6vcp1e5U4sltWwXtP7v1VxU8F7T+79VcXqZFDjAJUog8Lo7HVn4upmd/RiGW/uEaf6vorPSPTAoPNMMlwYHCXAA3Nu4AnyYuMwFJr87WAOGkaDsGnFbiwHUA2jThyUgeTT6c6yqKVNgJzObLnQJDXEaa+wVX9IHinSfFI56WcgH2XZM9+IHdoJmbL3gwchz04pkHIaRpw5Kjw6v8Q5KdT1WuexrzIcAx2UvALQTJ/wCmZAmN0xf8TNp5m9WesAqeqXAAFgqG5GgIpOv2bx7nVttYWsLcOSFg5DwQeNi+mKlJtYkUgab7AuJluRrtr3vExwDlZ6P6SdVqvYQ2BmgNPrNyvLIduYkd/avQLByHgpDQJMa6oKtXFlpd6jyBABF5JEx55JRxmZ2XK8ciQI0nzCtQEgIJCIiAiIgIiICIiAiIgIiICIiAiIgIiICIiCHaKniq5YQ1oBJ7+IgRvzJAV0hY5Agp4mvUYRlpF4iTB+g5+e+xRMhpIyk6jktmQKQ0Kop4qs5uXKJnUxMXHC3Mnu5rB+Kc2P6LicoJA3mRMRb9VeydqZO1B5x6Qd8PV7x2furFCsXgksLY0niJP7fUKzk7UydqCphqznueC2A10A8xGq3U3Eky0tgwJi45iOHatuQIGoNVfNlcWQXXidJVenXe6j1gYCXEFrR+EkQTfWLq7lTIgosxTy8N6h4aTBceGt+y0dpHC6itiKjamVrJHq35S6D4C6v5EyBBr4BQD6xGUwADmtB25rbkCZB5KDHgO9VaeIcapYWiL8TIjjyMyLcPyuloUZVBRxGKex5Aoue0cRPInlzgLN9Z3VZ8hBgnKbnbRW8gTIFRSwVdz5zMywdCDyHMdysOMAkNzEcBEna625AmQIMGcLRPDu0W1QGhSooiIgp4L2n936q4qmC9p/d+qtoCIodoUDKOSZRyVXFYg08sNLsxIgEzIaSLCeSxxGMbSDc+YEgmBJiIn8wiLmUckyjkvPo9KUnvDGkknQ3jWP28VaNQZg28kToYjt07kG7KOSZRyUM4qtSxsh5cwtYwOl1yPVcRa17CbIq1lHJMo5KizpZhbTdDoqCRoYN7GDEyIWY6TpHQnw3QW8o5JlHJUx0rSi+YEAEiNAdFur1y1zQGh0gn2o05cyg3ZRyTKOSqjHtNQMaCSWZwbCQdBGqwHStKLyDExE69nagu5RyTKOSim8OaHC4IkdhWSCMo5JlHJSiCMo5JlHJSiCMo5JlHJStVZ+VpcbxvA1i/IINmUckyjkq7K4LHOj2SQcrpE7FYjG04JvaJ7yB+oQWso5JlHJVH41gymDDpvygx57FYova9oc2YPOQgzyjkmUckyhMoQMo5JlHJMoTKEDKOSZRyWuu8MbmMwO0rKbdxQZZRyTKOSp4vHMouaHk+tOnCOfbYLQOl2FrnNa45Qyf/AHuj6Ij08o5JlHJU8JjmVi4NmWxmmeO/FbmVA6Yn1SQZBFxynXtQbso5JlHJcl/EuLrDFZGVXtGVsAOLRJm5Xmvr4gR/Xq3cWe28XHbwuuc+SpcMvPETMU7/ACjkmUclxDaWLcfVr1CJiS947bG6r4iviabg11apJAP/AFToe9OT8J89fTv8o5JlHJcV0Ti64xlNj6rz60OBfnGnaQu0qPDWlzjDWgknkBqVrHK3Tx57xaco5JlHJeTS/iGmYzMe0kNtYnO5zmhnbLDfTdb6HTFKo+m1mZ2fjYRZxBM3/sK06L+UckyjkpRBGUckyjkpRBGUckyjkpRBGUckyjkpRBGUckyjkpRBEKVTwuP6x+XLAIkGfP0VxAREQVMF7T+79VbVTBe0/u/VW0BCEUHQoMDSkgmCRoY07ENPs8EJ3+qA7/VVAUo4DwU5Tso8U8UGbRChjA0QAANbCLnVY+KeKgzyjkFGQch4LHxTxQZFg5DwSpTa4Q4AjkRKx8U8UGeUTMX5rF1FpgloMaWUeKeKDYEWvxTxRWxFr8U8UGxFr8U8UGxRCw8U8UGQZEwBfWyBmw8Fj4p4ojLLsPBSBFhCw8U8UGd9kvssPFPFFZ32S+yw8U8UGRbKZVj4p4ogac6we5BS2HgniniqApxpHgpyFR4p4oPI6X/h/wC01esFXIcoBBbm07wqXogfiB/l/wD2XSd58U8VicIlznxYTNzDnfRN/wAT/oP/AMlif4Rcf/Mf/j/+y6TxTxTjhOHDp4fR/wDDPU1mVDWzZDMBkX7ZK98iRBuFhKVy4MdkAL8pyg6ZosrGMR8OmOMYxUJdRYSSWtJNjYXHJBSaDOUTzgdi891bEtBLGuqCBGdoDpkyTBFtOH++L6mLPAgy4AANDYl0EkzeMvjobxWnqoqA+0MzknOQxuVtsuaTNwATYDxPdqGKxV/6TRAHAmSRfjwj6gIPURedVOIL3AZ2jKCIDLG1rgz/AHceGnExnxMGQRcxAaTkI9UnccbHXjog9JFSwD6xJ60EeqJkCAdo133V1AREQEREGDaTQSQ0AnUgXKzREBERBUwXtP7v1VtVMF7T+79VbQFDtD2KVDtD2IK2JY4j1ddlFGmQ68wOfZ+qsZSmU7Ko8sYXFAuy1RBcSJcSYPCS0xxsLD/En2PEZHh1bM5wbEOLIIcSYgSAQY7vD1Mp2TKdkHl/ZcVr17cwzRaWnSJESNOZO6g4XFmQcQ2IIBDQDMGDpa8eC9XKdkynZBSFPEZCM7c2cmdQG8B7I8+Cith6zmvHWaiGw7KdRxAtprvwV7KdkynZB5T8Liy2BXaLESOcWIlpOu55zwWdTC4j1MtX1m55JcYMk5bAQTEC+nIr0sp2TKdkHmDC4oaVxB1BAdqTMGBwiN9lH2bF5b1257xEBtwYPs3gkeC9TKdkynZBXrU6hDcjw0gXmDP0Wvqa8/8AVb4K5lOyZTsgquZWtD2+zf8A7uYtp+y05MSf7gNzH7cfovQynZMp2QUjRryT1g28Tt2eHerFFrgPXdmM69w/WVtynZMp2QQinKdkynZBCKcp2TKdkEIpynZMp2QQinKdkynZBC11mOcIa7KZ11W3KdkynZBT6msDIqDQajx8/wDKzw9Ko0+u/Nb9f+fHZWcp2TKdkFY0qnCpxm9/xW+rfBRkrfjbtbfjZWsp2TKdkFR7K+Yw9oEmLaDgNFtxNPOwiJuDEkTBBi3P/lbsp2TKdkFFuGflhpyes068BqTFpPLRRTwtYNINWTDb5jwMm/C1pCv5TsmU7IKJw+Ik/wBcbeoP287pTw9cOBNYOEiRlFxxGn7K9lOyZTsghZkwJNgscqVqeZjmzEjtUVLajToQewyslWw2GLCSS0+17LcvtOnmVq/lxE5armzJtzMILyKkMAb/ANV8kzIJHCOfYVZoUyxgaXFxHE6oNiIiAiIgIiICIiAiIgIiIKmC9p/d+qtqpgvaf3fqraAodoVKh2hQVekqNR9MCkYdmB1iyxw9Kt1Dmvd/UJsZ4cp4cbq1Ue1olzso0uQLqcwic1uciFradaY1ja1B+GxP9tUNHAEl0exF+N2uHY5ZfZ6wkB0tMavcD7TrTEixb8quNcDo6dNCDroso3Ky2rYOlVaXdY4O0gybmTw0FoFuStKI3KRuUEqvg6NRgeHvL5e5zSdQ03De647IW+NykblBKKI3KRuUEoojcpG5QSiiNykblBKKI3KRuUFarTrFxLXgC8Dhw1t2rX1WIEnO0mBbeOFvNuxXY3KDtQUeqxDhOcNPLu4wOY+pWynRqhzZeC0OJPMggwO6ysyL3010UxuglFBG6g9uqDJFEblI3KCUURuUjcoJRRG5SNyglFEblI3KCUURuUjcoJRRG5SNyglaMS2oY6sgHfTgtpsJJgdymNygqinXh3rtzWjlqZ4co8FgaWJ94zXl4K73pG5QRwHcpMxbVQRupcYBMExwGqDVhzUuKgFrBw/u3jh/stOevJ9VusjQ+rOhuLxPNbMJiutBtEbgiDpccY1C10+kGuqZIvmcNRwAMxyuPFBiamIFywGBprP7K8FTb0nTMe16xgW1MSrFGsHtDm6FBsREQEREBERAREQEREBERBUwXtP7v1VtVMF7T+79VbQFDtCpUO0KCvjsIKzMpOW8zErDD9HhlE0sxIJmYA5fstuLxDKLczhaYsFjTxdN1M1G3aDGl57O9bvLSvpisd7+04fCNpuc4SXO1J7ALAWGisKo3pCiSQDcENNr5iJyxz/Yq1lHILDaUUZRyCZRyCCUUZRyCZRyCCUUZRyCZRyCCUUZRyCZRyCCUUZRyCZRyCCUUZRyCZRyCCq/ABznOLnX7IFx+0d5WI6NbeXvM6yZH1W44mmCQSARrKj7XR/G0cb2QYvwDST6zhJBIEXgADhssavR4c4nO8SIgEcIuDw0+q2HF0h/c3yY/MwsnYimCQSJGo+iDV/L25HMzOgxymwjkoPRzCZJcdLGIEcdFn9so39ZtvMrMYinpmbpPdzQbkVcYul+Jo7bLawtcAWwQeKDNFGUcgmUcgglFGUcgmUcgglFGUcgmUcgglFGUcgmUcgglFGUcgmUcggwr0hUYWkkA8tVoq4BrnZi940sHQLeT49i31XtY0uIsNYErB+JpNMOc0HkdfNkGqn0c1sQ99iDczoZWLujgXE9Y6CSSLa8httxW5mKpOMBzToPHT8j4KTiaUkZhIMEb8u1BtDYAHKBfVZFY2gERwuEewOaWm4Ig9iDCg6mQeryxb2fopY9jpLS0wYMRY8VjQwzackEkniY5k8NySsHYCm4EGTLsxvxiPPYg3FzRxbYbWF/2PgpDhwIVYdHU7631v2/uoqdG03B0SCeKC4igCBClAREQEREBERAREQEREHmdFtIrYkmYLmR8nBemqeC9p/d+quKzNpAodoVKh2hUVrr0WVG5XiRM8VjTw1NrCwN9U6i619JYo0aYc0A+sBdY4bHmpRNTJcGMoMzp+63WWl/TF47V9t7cPTGjBqDpxFge1bZ7fBUqOOe6oGGi5oJPrE2Fv8AYq8sNont8Ent8FKIInt8Ent8FKIInt8Ent8FKIInt8Ent8FKIInt8Ent8FKIInt8Ent8FKINT6LHGSwHuUGhTmcg+Xlp+S1Px2V5bkcTzGmsI7GkAf03GRNrjQGPqg2fZqcRkEaezw5fRDhaZcXFskxMgnRanY+I/pv4yOQHHvU1MbDZyO9mRubW+v0KDYMNTGjB4KRQpj+wXEacOS1sxskDI4AmJ4dvYsX4+JPVugctZk2juQbhhqf4Bf8AwrY0AAACANiqb+kgLGm+YBi3HzdXgUET2+CT2+ClEET2+CT2+ClEET2+CT2+ClEET2+CT2+ClEET2+CT2+ClEGFRrXCHCR2HhosXUKZMlgJ55b8P2C2qvicUKceq503t2gH8wgyGHpiIYLf4eWixOEpTOQT2HXmtTukYP/Tfy4a3/YeKO6RDT6zHxfQTpqgt2gAbcFJE2UHQdyyQVcDh3U2nMSTMCXT6rbN7413WtuFq+t/UN88esTGaIPdfsV26X8lBU6mvP/UFnWG0Hbz9VZohwaA8gu4kLK/kpfyUEoov5KX8lBKKL+Sl/JQSii/kpfyUEoov5KX8lBKKFKAiIgqYL2n936q2qmC9p/d+qtoCh2h7FKh2h7EC/IJfkFV6SFU0x1M5sw0IFu9Y4Y1+pOcf1Jtppbu5rWv87Wxt/VUuX8lL+SqVIV88uLsuZ1vV0n1Z2jlefFXlltF/JS/kqUQRfyUv5KlEEX8lL+SpRBF/JS/kqUQRfyUv5KlEEX8lL+SpRBF/JS/kqrV66TlsPWg2jQZf1TLWveBlMTBdM6mBGkoLV/JS/kqmTibCGbniPNlBdibwG6W5/n5/MLt/JS/ko3QTqpQRvAS/kqUQRfyUv5KlEEX8lL+SpRBF/JS/kqUQRfyUv5KlEEX8lL+SpRBF/JS/IKVUqdfD4y3Pq7Nju4x4lBav5KX5BVGPxEiWsFxPYTwvwA+qxdUxGYjI2JMcfV8dUFwz+SwxdfqqVSpE5GudGkwJhZiYE62mNJWSDxfSJgBzMcC2S6LgAOIMTBm2hAWwfxDRJjK+bfhtPO/C3jaV6sBMo5BB5+C6ZpV3ta1rwXAkZgBp3yvRUQpQEREBERAREQEREBERAREQVMF7T+79VbVTBe0/u/VW0BQ7QqVDtCggmNTCmN1W6RwhrU8oMXBmJWGGwGWg6k4h2abxzHJaqNbv2zc7VXpcjdI3VP8AlrZEkFrSC0ZdPWk+bWV1ZaRG6RupRBEbpG6lEERukbqUQRG6RupRBEbpG6lEERukbqUQRG6Ruq1TCOLi4VXieAJWLcE4H/rPidOEcvzQW43SN1Uq4SoZy1Td0wZA42mdL/QaLBuBqXms7jEE8tTdBejdI3VRuBIP/VdEyRccdJnzsrTGw0AmSABPPdBMbpG6lEERukbqUQRG6RupRBEbpG6lEERukbqUQRG6RupRBEbpG6xq08wg8wfAyq7sDYZXlsAC06Ankd/ogtRukbqsMI6ZNVxgg8dBw14rW7BVC4nrTBJPG3+GAdPNkFwhKoJa4AwSDB5HmgEACZiLnilVmZrm8wR4oK7WVsp/qNM+yY7f9liKeI/Gzw7f9li7o6b5jPGDE6bbKaeBygAEwHBwvyER2LVQzcswyvBlzSeEW4jblKxNKuTd7e7z5hYDo4D+53D+48FL+jsxJk3M2ceZP6pUdlyzFKv7xu9tuFvP0VmkCGtDjJAEnmeaqUsBlcHZnGDPtdv7q6pP4sCIiiiIiAiIgIiICIiCpgvaf3fqraqYL2n936q2gKHaHsUqHaFBqxNdlJuZ9hMc0pV6b25muBbMTpdRiqDKrcr9JmxhY0sHTbTNMCWOmQTzWv51/WP62/GTcTTJyhwJtput0KtTwNFjszWAG1wTw0/JWcwWWyEhMwTMECEhMwTMECEhMwTMECEhMwTMECEhMwTMECEgJmCZgg1GvTBILgI52HZJsU6+nMZ2/MNv3Hiofh6bpkTO5iYiY4LD7DR/D9Sg2mtTEy5ojWXCyh2IpDV7PmHniFg7B0iZiDMyCReZRuDpAQG201OkzHZKDNuIpm2YA8j6pvbQoK9MtzZ2RzzCL6LF2EpnUExzc4nxlG4WmOH1PKPyQbGVGOJDSCQATBnXT8lnC10aLGTlETA1J0n9z4rZmCBCQmYJmCBCQmYJmCBCQmYJmCBCQmYJmCBCQEzBMwQYOqMDspMGMx2HMlY/aKUTnZH/AHBTUoscZcJsRqdDP7lYHC0pnLex1Oo0QZNxFMmA9pMxrxUmtTGr2jX+4cNVgMLTtbQyLnW37BYHA0s2a9zJAcbnnzkILJA/JZLAQAANBACxxYeaVQUzDy12Q/4ot9UGyEjtXk5caxwaC17Ly62a5sBJ4aGeA5rEuxzGiWtIE5iPWJGw1zafVB7EJC8mhUxxylzWAEskQAcpHrcbeC9dBEJClEEQkKUQRCQpRBEJClEEQpREBERBUwXtP7v1VtVMF7T+79VbQFDtCpUEWQYV3lrfViSQL3FyAtIxThSc57fWaYIF5NtPELe9ocIc2RyMEIxgaIa0AchAQee3pluUOym50FyBGp5Cco/9wSp001uaWEkCbEFpuQYO0D5gvS7vyTu/JBTqdJsYBmB9kOJbcCeHP6Kzh63WMDgImd9DHBZ935J3IJRROyTsglFE7JOyCUUTsk7IJRROyTsglFE7JOyCtVx7GOgzqRbYTp2fktY6Vp8naE2g2HHVXCP8P5Ke78kFOr0iGx6pu1pE21MXR3STRPqkwTxgmIuBxF9dirnd+Sd35IKjOkWucRBAAmTxtwH0WTMc1z2sAcCSReLQCf0Ks935J3fkglFE7JOyCUUTsk7IJRROyTsglFE7JOyCUUTsk7IJRROyTsglVamOa3PI9kxYi5gmNtPJsrM7J3fkgqs6RpmIzXMaczAPZr4KD0lTBIvYxw18fqrUCZy37lBaJnLfnaUEh0gEaGCpc4AEkwBckosK5AY4uEtDTI2i6DMOHMJmHMLy3PwwEQ4Zrlt5sSIPLUrJjcMQ6AYE39bjY/mrrKbQ9KRzQuHMcl5lJmGn1ZJMkayIAP6BS0YdxiHZnOMgyLz4cfqlSXD0RUaYgi+l1IIMwdNV5ZfhCDqZEx62nkLbRxmHpghroE3sTdNZNoegiIooiIgIiICIiAiIgqYL2n936q2qmC9p/d+qtoCglSodoUC/NL81oxlNzmjLNjJAcWyMpGo3I8FodRr9S4U3Zahc0gudmgermuZ5HxQXr80vzXkdVjstntzS+5yiZEMGh0meGg74q0cffJUaAQYnKXD2oGkcWz/27oPYvzS/NY0A7I3Nd0Ce3is0EX5pfmpRBF+aX5qUQRfml+alEEX5pfmpRBF+aX5qUQRfml+alEEX5pfmpRBF+aX5qUQRfml+alEEX5pfmpRBF+aX5qUQRfml+alEEX5pfmpRBF+aX5qUQRfml+alEEX5pfmpVXq6jquYktYzQA+1bU7ILKEWQ/spJi5Qauqbv8xQ0Wb/ADFZUazKjQ5jmvadC0gjxCPrNaCS4ACxJNglpTHqm7/MU6pu/wAxWwuA1MTZShTSKLBpw/xFOoZMxfnJWzrBMTdZK2VCMw5pmHNSiiozDmmYc1KIIzDmmYc1KIIlSiICIiCpg/af3fqra5+r0vg3CRisP/mt/dU6nSGFP/mqH+a390HWKHaFcY7F4b4qj/mt/dY/acN8VR/zW/ug7JwqTZzQN2k/qsctX8TPkP7rj/tWG+Ko/wCc390+1Yb4qj/nN/dFt2GWr+JnyH90y1fxM+Q/uuP+1Yb4qj/nN/dPtWG+Ko/5rf3Uot2TA/8AuLT2Aj9VnfZcScThviqP+a391Qr43DU67X1K7H08jhDXh8OlsWB5TdWEl9Fvsl9l89/nXR34v9BT+ddHfi/0FWkt9Cvsl9l89/nXR34v9BT+ddHfi/0FKLfQr7JfZfPf510d+L/QVLenej2mQ+DzDClFvoN9kvsuD9JcH753yuT0lwfvnfK5Kkd5fZL7Lg/SXB++d8rk9JcH753yuSpHeX2S+y4P0lwfvnfK5PSXB++d8rkqR3l9kvsuD9JcH753yuT0lwfvnfK5Kkd5fZL7Lg/SXB++d8rk9JcH753yuSpHeX2S+y4P0lwfvnfK5PSXB++d8rkqR3l9kvsuD9JcH753yuT0lwfvnfK5Kkd5fZL7Lg/SXB++d8rk9JcH753yuSpHeX2S+y4P0lwfvnfK5PSXB++d8rkqR3l9kvsuD9JcH753yuT0lwfvnfK5Kkd5fZL7Lg/SXB++d8rk9JcH753yuSpHeX2S+y4P0lwfvnfK5PSXB++d8rkqR3l9kuuD9JcH753yuT0lwfvnfK5Kkd4VhiKIqU303ey9paewiCuG9JcH753yuT0lwfvnfK5KkdVV6FZUeH1HvefVmQyDBmCANLwRxtyWv0do5XNl125ZhsgZSDeOM37AuZ9JcH753yuT0lwfvnfK5Kkt0/o/S/G+JJj1bE5ZItazQBGnBZU+gqTS0gulrw+YaNCTl0s25sOa5b0lwfvnfK5PSXB++d8rkqR25ww6zPxAgdhMn8h4LcuC9JcH753yuT0lwfvnfK5Kkd6i4L0lwfvnfK5PSXB++d8rkqVt3qLgvSXB++d8rk9JcH753yuSpLd6i4L0lwfvnfK5PSXB++d8rkqS3eouC9JcH753yuT0lwfvnfK5Kkt3qLgvSbB++d8rlqx38QYSph6tNlU53tIEggSdzolFuCREUBERAREQEREBERAREQEREBERAREQEREBERAREQEREBERAREQEREBERAREQEREBERAREQEREBERAREQEREBERAREQEREBERAREQEREBERAREQEREBERAREQEREBERAREQEREBERAREQEREBERAREQEREBERAREQEREBERAREQEREBERAREQEREBERAREQEREBERAREQf/2Q==",
      "text/html": [
       "\n",
       "        <iframe\n",
       "            width=\"800\"\n",
       "            height=\"500\"\n",
       "            src=\"https://www.youtube.com/embed/P8OgTEmJTeU\"\n",
       "            frameborder=\"0\"\n",
       "            allowfullscreen\n",
       "        ></iframe>\n",
       "        "
      ],
      "text/plain": [
       "<IPython.lib.display.YouTubeVideo at 0x105ff7c50>"
      ]
     },
     "execution_count": 1,
     "metadata": {},
     "output_type": "execute_result"
    }
   ],
=======
   "execution_count": null,
   "id": "641e528d",
   "metadata": {},
   "outputs": [],
>>>>>>> upstream/main
   "source": [
    "from IPython.display import YouTubeVideo\n",
    "YouTubeVideo('P8OgTEmJTeU', width=800, height=500)"
   ]
  },
  {
   "cell_type": "markdown",
   "id": "03c92c79",
   "metadata": {},
   "source": [
    "## 🚧 🏗️ Demo I [25 minutes]<br>(this just picks up right from the material that we didn't get to in lecture)<br>(it's the exact material that was in the lecture notebook)\n",
    "\n",
    "### Let's consider Week 04 HWq8 again"
   ]
  },
  {
   "cell_type": "code",
   "execution_count": null,
   "id": "0617bc4b",
   "metadata": {},
   "outputs": [],
   "source": [
    "import pandas as pd\n",
    "\n",
    "patient_data = pd.DataFrame({\n",
    "    \"PatientID\": [1, 2, 3, 4, 5, 6, 7, 8, 9, 10],\n",
    "    \"Age\": [45, 34, 29, 52, 37, 41, 33, 48, 26, 39],\n",
    "    \"Gender\": [\"M\", \"F\", \"M\", \"F\", \"M\", \"F\", \"M\", \"F\", \"M\", \"F\"],\n",
    "    \"InitialHealthScore\": [84, 78, 83, 81, 81, 80, 79, 85, 76, 83],\n",
    "    \"FinalHealthScore\": [86, 86, 80, 86, 84, 86, 86, 82, 83, 84]\n",
    "})\n",
    "\n",
    "patient_data['HealthScoreChange'] = patient_data.FinalHealthScore-patient_data.InitialHealthScore\n",
    "\n",
    "patient_data"
   ]
  },
  {
   "cell_type": "markdown",
   "id": "d338bb0b",
   "metadata": {},
   "source": [
    "### Sampling Distribution of a statistic <br>*under the null hypothesis*\n"
   ]
  },
  {
   "cell_type": "code",
   "execution_count": null,
   "id": "89d92cb1",
   "metadata": {},
   "outputs": [],
   "source": [
    "# We're going to ask a slightly different question\n",
    "\n",
    "patient_data['Improved'] = patient_data['HealthScoreChange']>0\n",
    "patient_data"
   ]
  },
  {
   "cell_type": "markdown",
   "id": "f2029ac5",
   "metadata": {},
   "source": [
    "### Let's transition our Null Hypothesis to set it up in a slightly different way\n",
    "\n",
    "$$\\begin{align*}\n",
    "H_0 &{}: \\mu_{\\textrm{vaccine}}=\\mu_{\\textrm{no vaccine}}\\\\\n",
    "&{} \\;\\;\\;\\textrm{There is no difference }\\textbf{on average}\\textrm{ do to the vaccine} \\textbf{ is 50%}\\\\\\\\\n",
    "H_0 &{}: \\textrm{The vaccine has no effect }\\textbf{(on average)}\\textrm{ on patient health}\\\\\n",
    "H_0 &{}: \\textrm{The chance the vaccine improves patient health} \\textbf{ is 50%}\\\\\\\\\n",
    "H_0  &{}: p=0.5 \\quad \\textrm{instead of the equivalent} \\\\\n",
    "&{} \\quad\\quad\\quad\\quad\\;\\; H_0: \\textrm{The chance the vaccine improves patient health} \\textbf{ is 50%}\n",
    "\\end{align*}$$"
   ]
  },
  {
   "cell_type": "code",
   "execution_count": null,
   "id": "a702800b",
   "metadata": {},
   "outputs": [],
   "source": [
    "population_parameter_value_under_H0 = 0.5\n",
    "\n",
    "observed_statistic = (patient_data.HealthScoreChange>0).mean()\n",
    "\n",
    "print('The p=0.5 Null Hypothesis of \"no effect\" on average')\n",
    "print('but an observed statistic of', observed_statistic, \"of the sample show increased health\")"
   ]
  },
  {
   "cell_type": "markdown",
   "id": "6f8abc53",
   "metadata": {},
   "source": [
<<<<<<< HEAD
    "### What is ACTULLY happening and being done in the code below?<br><sub>What is being SYNTHETICALLY SIMULATED??</sub>"
=======
    "### What is ACTUALLY happening and being done in the code below?<br><sub>What is being SYNTHETICALLY SIMULATED??</sub>"
>>>>>>> upstream/main
   ]
  },
  {
   "cell_type": "code",
   "execution_count": null,
   "id": "a6580d6a",
   "metadata": {},
   "outputs": [],
   "source": [
    "import numpy as np\n",
    "\n",
    "# np.random.seed(1)  # make simulation reproducible\n",
    "number_of_simulations = 10000  # experiment with this... what does this do?\n",
    "n_size = len(patient_data)  # 10\n",
    "IncreaseProportionSimulations_underH0random = np.zeros(number_of_simulations)\n",
    "\n",
    "# generate \"random improvement\" proportions assuming H0 (vaccine has no average effect) is true \n",
    "# meaning that the \"before and after\" differences are positive or negative at \"random\"\n",
    "for i in range(number_of_simulations):\n",
    "    \n",
    "    # why is this equivalent to the suggested idea above?\n",
    "    random_improvement = np.random.choice([0,1], size=n_size, replace=True)  # <<< `replace=True` ^^^\n",
    "\n",
    "    # why is .mean() a proportion? \n",
    "    IncreaseProportionSimulations_underH0random[i] = random_improvement.mean()\n",
    "    # why is this the statistic we're interested in? Hint: next section..."
   ]
  },
  {
   "cell_type": "code",
   "execution_count": null,
   "id": "f096078e",
   "metadata": {},
   "outputs": [],
   "source": [
    "# Calculate the p-value\n",
    "# How many bootstrapped statistics generated under H0 \n",
    "# are \"as or more extreme\" than the observed statistic \n",
    "# (relative to the hypothesized population parameter)? \n",
    "\n",
    "observed_statistic = (patient_data.HealthScoreChange>0).mean()\n",
    "simulated_statistics = IncreaseProportionSimulations_underH0random\n",
    "\n",
    "# Be careful with \"as or more extreme\" as it's symmetric!\n",
    "SimStats_as_or_more_extreme_than_ObsStat = \\\n",
    "    abs(simulated_statistics - population_parameter_value_under_H0) >= \\\n",
    "    abs(observed_statistic - population_parameter_value_under_H0)\n",
    "    \n",
    "p_value = (SimStats_as_or_more_extreme_than_ObsStat).sum() / number_of_simulations\n",
    "print(\"Number of Simulations: \", number_of_simulations, \"\\n\\n\",\n",
    "      \"Number of simulated statistics (under HO)\\n\",\n",
    "      'that are \"as or more extreme\" than the observed statistic: ',\n",
    "      SimStats_as_or_more_extreme_than_ObsStat.sum(), \"\\n\\n\",\n",
    "      'p-value\\n(= simulations \"as or more extreme\" / total simulations): ', p_value, sep=\"\")"
   ]
  },
  {
   "cell_type": "markdown",
   "id": "01238699",
   "metadata": {},
   "source": [
    "### A p-value is the the probability that a statistic is as or more extreme than the observed statistic if the null hypothesis is true"
   ]
  },
  {
   "cell_type": "code",
   "execution_count": null,
   "id": "7bbaef19",
   "metadata": {
    "scrolled": false
   },
   "outputs": [],
   "source": [
    "import plotly.figure_factory as ff\n",
    "import plotly.graph_objs as go\n",
    "\n",
    "# figure for demonstration only: code details not of primary concern\n",
    "\n",
    "hist_data = [IncreaseProportionSimulations_underH0random+np.random.uniform(-0.05,0.05,size=len(IncreaseProportionSimulations_underH0random))]\n",
    "group_labels = ['SYNTHETICALL<br>SIMULATED<br>Sampling<br>Distribution<br>of the<br>Sample<br>Mean<br><br>assuming<br>that the<br>H0 null<br>hypothesis<br>IS TRUE']\n",
    "fig = ff.create_distplot(hist_data, group_labels, curve_type='normal',\n",
    "                         show_hist=True, show_rug=False, bin_size=0.1)\n",
    "pv_y = 2.5\n",
    "pv_y_ = .25\n",
    "fig.add_shape(type=\"line\", x0=observed_statistic, y0=0, \n",
    "              x1=observed_statistic, y1=pv_y,\n",
    "              line=dict(color=\"Green\", width=4), name=\"Observed Statistic\")\n",
    "fig.add_trace(go.Scatter(x=[observed_statistic], y=[pv_y+pv_y_], \n",
    "                         text=[\"Observed<br>Statistic<br>^\"], mode=\"text\", showlegend=False))\n",
    "# \"as or more extreme\" also include the \"symmetric\" observed statistic...\n",
    "symmetric_statistic = population_parameter_value_under_H0 -\\\n",
    "                      abs(observed_statistic-population_parameter_value_under_H0)\n",
    "fig.add_shape(type=\"line\", x0=symmetric_statistic, y0=0, \n",
    "              x1=symmetric_statistic, y1=pv_y,\n",
    "              line=dict(color=\"Green\", width=4), name=\"Observed Statistic\")\n",
    "fig.add_trace(go.Scatter(x=[symmetric_statistic], y=[pv_y+pv_y_], \n",
    "                         text=['\"Symmetric\" Observed Statistic<br>addressing for \"as or more extreme\"<br>^'], mode=\"text\", showlegend=False))\n",
    "\n",
    "# Add a transparent rectangle for the lower extreme region\n",
    "fig.add_shape(type=\"rect\", x0=-0.25, y0=0, x1=symmetric_statistic, y1=pv_y,\n",
    "              fillcolor=\"LightCoral\", opacity=0.5, line_width=0)\n",
    "# Add a transparent rectangle for the upper extreme region\n",
    "fig.add_shape(type=\"rect\", x0=observed_statistic, y0=0, x1=1.25, y1=pv_y,\n",
    "              fillcolor=\"LightCoral\", opacity=0.5, line_width=0)\n",
    "\n",
    "# Update layout\n",
    "fig.update_layout(\n",
    "    title=\"SYNTHETICALL SIMULATED Sampling Distribution<br>under H0 with p-value regions\",\n",
    "    xaxis_title=\"Mean Health Score Change\", yaxis_title=\"Density\", yaxis=dict(range=[0, pv_y+2*pv_y_]))\n",
    "fig.show() # USE `fig.show(renderer=\"png\")` FOR ALL GitHub and MarkUs SUBMISSIONS"
   ]
  },
  {
   "cell_type": "markdown",
   "id": "bc02f7ce",
   "metadata": {},
   "source": [
    "### Synthetics! \n",
    "\n",
    "![](https://www.scified.com/topics/1804189048037466.png)"
   ]
  },
  {
   "cell_type": "markdown",
   "id": "28d7f586",
   "metadata": {},
   "source": [
    "### VS the<br>_bootstrapped Sampling Distribution_ of a statistic\n",
    "\n",
    "|![](https://img.huffingtonpost.com/asset/5b6b3f1f2000002d00349e9d.jpeg?cache=92VfjlAeaf&ops=1200_630)|![](https://uselessetymology.com/wp-content/uploads/2019/10/bootstraps.png)|\n",
    "|-|-|\n",
    "|![](https://cdn.dribbble.com/users/1064236/screenshots/5753511/redbull_fly_800x600.gif)|![](https://media1.giphy.com/media/VeGYtq4kReVJmt5XVM/giphy.gif)|\n"
   ]
  },
  {
   "cell_type": "markdown",
   "id": "e6599851",
   "metadata": {},
   "source": [
    "### Compare and contrast the ABOVE<br><br>_sampling distibution of the statistic under the assumption of the null hypotheisis_<br><br>VERSUS the _bootstrapped sampling distribution of the test statistic_ BELOW"
   ]
  },
  {
   "cell_type": "code",
   "execution_count": null,
   "id": "c272d6b0",
   "metadata": {},
   "outputs": [],
   "source": [
    "# Evidence against null hypothesis using confidence intervals\n",
    "\n",
    "import numpy as np\n",
    "\n",
    "# Bootstrapping\n",
    "# np.random.seed(130)  # make simulation reproducible\n",
    "number_of_simulations = 1000 \n",
    "n_size = len(patient_data)  # 10\n",
    "bootstrap_means = np.zeros(1000)  # array to store bootstrapped means\n",
    "\n",
    "for i in range(number_of_simulations):\n",
    "    \n",
    "    # bootstrap sample size is the same (\"apples to apples\") as the original sample size\n",
    "    sample = patient_data.sample(n=n_size, replace=True)  # `replace=True`!!\n",
    "    bootstrap_means[i] = sample['HealthScoreChange'].mean()  # bootstrapped mean\n",
    "\n",
    "# Calculating the 95% confidence interval\n",
    "ci_lower = np.percentile(bootstrap_means, 2.5)\n",
    "ci_upper = np.percentile(bootstrap_means, 97.5)\n",
    "print(ci_lower, ci_upper)\n",
    "\n",
    "hist_data = [bootstrap_means]\n",
    "group_labels = ['Bootstrapped<br>Sampling Distribution<br>of the Sample Mean']\n",
    "fig = ff.create_distplot(hist_data, group_labels, \n",
    "                         show_hist=True, show_rug=False, bin_size=0.4)\n",
    "\n",
    "# Add a line for the lower confidence interval\n",
    "ci_y = 0.35  # Adjust height as needed\n",
    "fig.add_shape(type=\"line\", x0=ci_lower, y0=0, x1=ci_lower, y1=ci_y,\n",
    "              line=dict(color=\"Red\", width=2), name=\"95% CI Lower\")\n",
    "# Add a line for the upper confidence interval\n",
    "fig.add_shape(type=\"line\", x0=ci_upper, y0=0, x1=ci_upper, y1=ci_y,\n",
    "              line=dict(color=\"Red\", width=2), name=\"95% CI Upper\")\n",
    "# Add a transparent rectangle for the confidence interval region\n",
    "fig.add_shape(type=\"rect\", x0=ci_lower, y0=0, x1=ci_upper, y1=ci_y,\n",
    "    fillcolor=\"LightSkyBlue\", opacity=0.5, line_width=0)\n",
    "# Add annotations for the confidence interval lines\n",
    "fig.add_trace(go.Scatter(x=[ci_lower, ci_upper], y=[ci_y+0.01, ci_y+0.01],  \n",
    "              text=[\"95% CI Lower\", \"95% CI Upper\"], mode=\"text\", showlegend=False))\n",
    "\n",
    "fig.update_layout(\n",
    "    title=\"Bootstrapped Sampling Distribution with 95% Confidence Interval\",\n",
    "    xaxis_title=\"Mean Health Score Change\", yaxis_title=\"Density\")\n",
    "fig.show() # USE `fig.show(renderer=\"png\")` FOR ALL GitHub and MarkUs SUBMISSIONS"
   ]
  },
  {
   "cell_type": "markdown",
   "id": "4e249f52",
   "metadata": {},
   "source": [
    "## 🔨 💪🏼 Demo II (of what to do AND NOT DO with p-values) [25 minutes]<br><sub>(again straight continuing with the exact material from the lecture notebook)</sub>"
   ]
  },
  {
   "cell_type": "markdown",
   "id": "b09c71dd",
   "metadata": {},
   "source": [
    "### VS $\\alpha$-_significance levels_ and Type I and II Errors\n",
    "\n",
    "Check if you **p-value** is less than or equal to some pre-defined $\\alpha$-**significance level**, such as $\\alpha=0.05$ (which is the most commonly used version of a **statistical hypothsis test**)\n",
    "\n",
    "- A **hypothesis test** based on an $\\alpha$-**significance level**\n",
    "\n",
    "- IS THE SAME as a **hypothesis test** with a **confidence interval** with a $(1-\\alpha) \\times 100$%  **confidence level**\n",
    "\n",
    "- Hypothesis test at **significance level** $\\alpha=0.05 \\Longleftrightarrow 95\\%$ **confidence level** decision using a $95\\%$ confidence interval\n",
    "\n",
    "You MUST choose $\\alpha$ before you observe the data and calculate a statistic, otherwise the following meaning of $\\alpha$ will not be true\n",
    "\n",
    "- The $\\alpha$-**significance level** is the chance your **independent** and **identically distributed** (i.i.d.) **sample** will produce a **p-value** less than $\\alpha$ if the null hypothesis IS true, thereby resulting in a WRONG rejection of the null hypothesis at the $\\alpha$-**significance level**\n",
    "\n",
    "### Type I and II Errors\n",
    "\n",
    "| Decision       | Null Hypothesis is True   | Null Hypothesis is False |\n",
    "|:--------------:|:-------------------------:|:------------------------:|\n",
    "| Reject Null    | **Type I Error<br>(α chance this results<br> from an i.i.d. sample)**       | Correct Decision         |\n",
    "| Fail to Reject | Correct Decision           | **Type II Error <br>(β chance this results<br> from an i.i.d. sample)**|\n"
   ]
  },
  {
   "cell_type": "markdown",
   "id": "ba81fc37",
   "metadata": {},
   "source": [
    "### Don't f@#k this up<br><sub>AKA mistakes that you make that make you dumb</sub>\n",
    "\n",
    "**Heaven**\n",
    "\n",
    "- This is a 95% confidence interval.\n",
    "- I have 95% confidence this constructed interval captures the actual true population parameter value.\n",
    "- I have used a confidence interval procedure which will \"work\" for 95% of hypothetical i.i.d. samples.\n",
    "- There's a 95% chance/probability this confidence interval will be one of the hypothetical intervals what will have \"worked\" in \"capturing\" the actual true population parameter value.\n",
    "\n",
    "**HELL _AND_ WRATH OF SCOTT**\n",
    "\n",
    "- There's a 95% chance the parameter is in this confidence interval. \n",
    "    - **NOPE, sounds too much like we're saying parameters have \"chance\", but parameters don't have \"a chance\" of being \"this or that\".**\n",
    "- There's a 95% probability the parameter is in this confidence interval. \n",
    "    - **NOPE, sounds too much like we're saying parameters have \"probability\", but parameters don't behave \"probabilistically\".**\n",
    "\n",
    "**Heaven**\n",
    "\n",
    "- **A p-value is the the probability that a statistic is as or more extreme than the observed statistic if the null hypothesis is true**.\n",
    "\n",
    "- See if it's smaller than an $\\alpha(=0.05?)$ and **reject the null hypothesis** at this **significance level** if so, which is interpretated the same as when you use a $(1-\\alpha)\\times 100$% **confidence interval**.\n",
    "\n",
    "- Just use the p-value to characterize the **strength of evidence against the null hypothesis** based on the table below.\n",
    "\n",
    "**HELL _AND_ WRATH OF SCOTT**\n",
    "\n",
    "- A p-value is the probability the null hypothesis is true. \n",
    "    - **OMG. NO. THIS IS NOT TRUE.**\n",
    "    \n",
    "- A p-value is the chance we wrongly reject the null hypothesis. \n",
    "    - **What? NO. That's the $\\alpha$-significance level. Why are you confusing this with a p-value??**\n",
    "    \n",
    "- A p-value is the probability that the hypothesized parameter value is correct. \n",
    "    - **Omg Jesus Christ kill me. We JUST finished talking about WHY we're so careful about the way we talk about confidence intervals; because, parameters don't have \"chances\" or \"probabilities\"...**\n"
   ]
  },
  {
   "cell_type": "markdown",
   "id": "0f8b83b6",
   "metadata": {},
   "source": [
    "### Just interpret p-values in terms of _Strength of Evidence_ against the null hypothesis\n",
    "\n",
    "|p-value|Evidence|\n",
    "|-|-|\n",
    "|$$p > 0.1$$|No evidence against the null hypothesis|\n",
    "|$$0.1 \\ge p > 0.05$$|Weak evidence against the null hypothesis|\n",
    "|$$0.05 \\ge p > 0.01$$|Moderate evidence against the null hypothesis|\n",
    "|$$0.01 \\ge p > 0.001$$|Strong evidence against the null hypothesis|\n",
    "|$$0.001 \\ge p$$|Very strong evidence against the null hypothesis|\n",
    "\n",
    "## Or just use _confidence intervals_\n",
    "\n",
    "**Question**\n",
    "\n",
    "1. Why is a **confidence interval** better than a **hypothesis test**?\n",
    "\n",
    "|![](https://cdn.dribbble.com/users/1064236/screenshots/5753511/redbull_fly_800x600.gif)|![](https://media1.giphy.com/media/VeGYtq4kReVJmt5XVM/giphy.gif)|\n",
    "|-|-|\n",
    "| | |"
   ]
  },
  {
   "cell_type": "markdown",
   "id": "d9dc31c8",
   "metadata": {},
   "source": [
    "## 💬 🗣️ Communication Activity<br>🎲 🃏 Stella McStat's Wheel of Destiny  [45 minutes]\n",
    "\n",
    "**[~5 of the 45 minutes]** Break into 5 new groups of 4-5, assigning each group to one of the questions. \n",
    "\n",
    "**[~15 of the 45 minutes]** Review and discuss the questions within groups. \n",
    "\n",
    "**[~25 of the 45 minutes / 5 minutes per group]** As soon as a group (in order) is ready **[possibly even before the first 15 minutes are up]**, they should immediately **introduce their general topic and questions** and discuss their answers with the class; each group should build on the answers of the previous group **[perhaps requesting additional time to do so if the initial 15 minutes or review and discussion have not yet been used up]**, with the previous groups ensuring that the next groups are indeed taking advantage of the foundation their answers and discussions have provided.\n",
    "\n",
    "> This is expected to be a dynamic sequentially dependent process (**not independent sampes!**) in which all groups should work together by contributing their part in order to complete the overall process within 45 minutes."
   ]
  },
  {
   "cell_type": "markdown",
   "id": "76b8d3c5",
   "metadata": {},
   "source": [
    "### The Wheel of Destiny\n",
    "\n",
    "Stella McStat had been running a small-time gambling operation on campus for several months during her first year at UofT... \n",
    "\n",
    "- For each spin of the wheel, two gamblers take part. For a toonie each (\\\\$2 Canadian), Stella sells one a red ticket and one a black ticket  (i.e., total \\\\$4). Then Stella spins the Wheel of Destiny. The person who holds the colour on which the spinner stops gets \\\\$3.50 (Stella keeps \\\\$0.50 per spin for running the game and providing snacks).\n",
    "\n",
    "Stella just bought a new spinner, the critical piece of equipment for this game. She's heard some mixed reviews about the manufacturer she has purchased from. Before she beings using this spinner, she wants to make sure that it is, in fact, fair (meaning, she wants both colours to come up equally often). Because of the set-up of the game, Stella has no incentive to cheat and wants the game to be as fair as possible.\n",
    "\n",
    "Everything phystical and mechanical that Stella can examine about the wheel seems fine; there is the same number of sectors of each colour and they each have the same area. BUT! Stella has a great idea and decides to come to YOU, her statistical guru, and ask you to verify that the new spinner is fit to use. Is Stella's game is \"fair\" (even if somewhat illegal)?\n",
    "\n",
    "\n",
    "| <img src=\"https://i.postimg.cc/BvqJwBwc/stella2.png\" style=\"height: 450px;\"/> |  <img src=\"https://i.postimg.cc/vm3GRxJR/fair.png\" style=\"height: 450px;\"/> |\n",
    "|-|-|\n",
    "|An Exercise for Illustrating the Logic of Hypothesis Testing|Adapted from Lawton, L. (2009), Journal of Stat. Education, 17(2)|\n",
    "\n",
    "\n"
   ]
  },
  {
   "cell_type": "markdown",
   "id": "117d97a3",
   "metadata": {},
   "source": [
    "1. What's \"data\" here?<br><br>\n",
    "    1. What is a **sample** here? Hint: the **population** would be every spin result ever \n",
    "    2. Do you think spins comprising a sample are **dependent** or **independent**?\n",
    "    3. What is the difference between a **parameter** and a **statistic**, illustrated in this context?<br><br>\n",
    "\n",
    "2. How could we create a **bootstrapped confidence interval** to estimate the proportion of times spins land on red? *Hint and Warning: this is not asking you to spin the wheel forever to arrive at your \"best guess\" of the proportion... this is a \"purely academic\" exercise in the process of contructing bootstrapped confidence intervals*<br><br>\n",
    "    1. What statistic should the **confidence interval** be based on?\n",
    "    2. What exactly would the process be to create a **bootstrapped confidence interval** for this context? That is, what exactly are the steps of the \"**physical** and/or **simulation**\" process you would carry out?\n",
    "    3. Besides changing the **confidence level** (e.g., from 95% to 90%), how else could we make the confidence interval narrower (and why is this preferrable)?<br><br> \n",
    "\n",
    "3. How can we examine the wheel for fairness from a statistical perspective?<br><br>\n",
    "    1. What is the difference between a **null hypothesis** and an **alternative hypothesis**? \n",
    "    2. What are the **null** and **alternative hypotheses** here?\n",
    "    3. How could you use a **confidence interval** to make a decision about a **null hypothesis** that the wheel is fair?<br><br>\n",
    "\n",
    "4. How could we **simulate** the **sampling distribution** of the **proportion of times spins land on red for a hypothetically fair wheel** (as opposed to the wheel Stella actually has)?<br><br>\n",
    "    1. How could you simulate the data needed to create the **sampling distribution**?\n",
    "    2. What **statistic** should the **sampling distribution** be based on, and what should the **sample size** be for the samples on which the **sampling distribution** is built?\n",
    "    3. How is the proces different than the process for creating a **confidence interval** (from questions 2)?<br><br>\n",
    "    \n",
    "5. How could we provide a **p-value** for a **null hypothesis** of \"fairness\"?<br><br>\n",
    "    1. What is the definition of a **p-value**?\n",
    "    2. How would the **simulation** of the **sampling distribution** be used to calculate a **p-value** for this problem? *Hint: you'll need one more thing having to do with with the the* **sample size** *used to* **simulate** *the* **sampling distribution under the null**\n",
    "    3. How would you interpret a p-value you obtained through this process in terms of the evidence it potentially provides against the null hypothesis? \n",
    "    \n",
    "    \n",
    "|p-value|Evidence|\n",
    "|-|-|\n",
    "|$$p > 0.1$$|No evidence against the null hypothesis|\n",
    "|$$0.1 \\ge p > 0.05$$|Weak evidence against the null hypothesis|\n",
    "|$$0.05 \\ge p > 0.01$$|Moderate evidence against the null hypothesis|\n",
    "|$$0.01 \\ge p > 0.001$$|Strong evidence against the null hypothesis|\n",
    "|$$0.001 \\ge p$$|Very strong evidence against the null hypothesis|    "
   ]
  }
 ],
 "metadata": {
  "kernelspec": {
   "display_name": "Python 3 (ipykernel)",
   "language": "python",
   "name": "python3"
  },
  "language_info": {
   "codemirror_mode": {
    "name": "ipython",
    "version": 3
   },
   "file_extension": ".py",
   "mimetype": "text/x-python",
   "name": "python",
   "nbconvert_exporter": "python",
   "pygments_lexer": "ipython3",
   "version": "3.11.4"
  }
 },
 "nbformat": 4,
 "nbformat_minor": 5
}
